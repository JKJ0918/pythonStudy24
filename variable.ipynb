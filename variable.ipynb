{
  "nbformat": 4,
  "nbformat_minor": 0,
  "metadata": {
    "colab": {
      "provenance": [],
      "authorship_tag": "ABX9TyPfN7fnyjzyGal/3RKSzO1+",
      "include_colab_link": true
    },
    "kernelspec": {
      "name": "python3",
      "display_name": "Python 3"
    },
    "language_info": {
      "name": "python"
    }
  },
  "cells": [
    {
      "cell_type": "markdown",
      "metadata": {
        "id": "view-in-github",
        "colab_type": "text"
      },
      "source": [
        "<a href=\"https://colab.research.google.com/github/JKJ0918/pythonStudy24/blob/master/variable.ipynb\" target=\"_parent\"><img src=\"https://colab.research.google.com/assets/colab-badge.svg\" alt=\"Open In Colab\"/></a>"
      ]
    },
    {
      "cell_type": "markdown",
      "source": [
        "변수\n",
        "\n",
        "파이썬에서 사용하는 변수는 객체를 가리키는 것이라고도 말할 수 있다.\n",
        "\n",
        "객체란 우리가 지금까지 보아 온 자료형의 데이터(값)와 같은 것을 의미하는 말이다\n"
      ],
      "metadata": {
        "id": "-WSb799OyLuc"
      }
    },
    {
      "cell_type": "code",
      "execution_count": 1,
      "metadata": {
        "colab": {
          "base_uri": "https://localhost:8080/"
        },
        "id": "Z8CPk7oHxbhw",
        "outputId": "99951cea-8cbf-45cb-d59c-a64d83e9c61f"
      },
      "outputs": [
        {
          "output_type": "execute_result",
          "data": {
            "text/plain": [
              "139543305074432"
            ]
          },
          "metadata": {},
          "execution_count": 1
        }
      ],
      "source": [
        "# a 변수가 가리키는 메모리의 주소\n",
        "a = [1, 2, 3]\n",
        "id(a)"
      ]
    },
    {
      "cell_type": "code",
      "source": [
        "# 리스트를 복사하고자 할 때\n",
        "a = [1, 2, 3]\n",
        "b = a\n",
        "id(a)"
      ],
      "metadata": {
        "colab": {
          "base_uri": "https://localhost:8080/"
        },
        "id": "OPEniLuezMQU",
        "outputId": "148d0da1-cdba-45a6-e98e-1899cf574845"
      },
      "execution_count": 5,
      "outputs": [
        {
          "output_type": "execute_result",
          "data": {
            "text/plain": [
              "139543083815424"
            ]
          },
          "metadata": {},
          "execution_count": 5
        }
      ]
    },
    {
      "cell_type": "code",
      "source": [
        "id(b)"
      ],
      "metadata": {
        "colab": {
          "base_uri": "https://localhost:8080/"
        },
        "id": "ixMtcSsCzWPJ",
        "outputId": "cba219dc-2cf2-4651-ac9e-969418631bbe"
      },
      "execution_count": 6,
      "outputs": [
        {
          "output_type": "execute_result",
          "data": {
            "text/plain": [
              "139543083815424"
            ]
          },
          "metadata": {},
          "execution_count": 6
        }
      ]
    },
    {
      "cell_type": "code",
      "source": [
        "a is b  # a와 b가 가리키는 객체가 같을까?"
      ],
      "metadata": {
        "colab": {
          "base_uri": "https://localhost:8080/"
        },
        "id": "NnON6MYQzh8B",
        "outputId": "2ab5c2a9-6b88-44af-bdfb-01c4f619d579"
      },
      "execution_count": 7,
      "outputs": [
        {
          "output_type": "execute_result",
          "data": {
            "text/plain": [
              "True"
            ]
          },
          "metadata": {},
          "execution_count": 7
        }
      ]
    },
    {
      "cell_type": "code",
      "source": [
        "a[1] = 4\n",
        "a"
      ],
      "metadata": {
        "colab": {
          "base_uri": "https://localhost:8080/"
        },
        "id": "nNViF6ZtzmhJ",
        "outputId": "ecba77b3-f8b1-4d3e-d6e3-c976bf4a51d2"
      },
      "execution_count": 8,
      "outputs": [
        {
          "output_type": "execute_result",
          "data": {
            "text/plain": [
              "[1, 4, 3]"
            ]
          },
          "metadata": {},
          "execution_count": 8
        }
      ]
    },
    {
      "cell_type": "code",
      "source": [
        "b # a, b 모두 동일한 리스트를 가리키고 있기 때문"
      ],
      "metadata": {
        "colab": {
          "base_uri": "https://localhost:8080/"
        },
        "id": "p8dkydODzqwB",
        "outputId": "72b62721-a409-4156-bbac-24df1e8c890f"
      },
      "execution_count": 9,
      "outputs": [
        {
          "output_type": "execute_result",
          "data": {
            "text/plain": [
              "[1, 4, 3]"
            ]
          },
          "metadata": {},
          "execution_count": 9
        }
      ]
    },
    {
      "cell_type": "code",
      "source": [
        "# [:] 이용하기\n",
        "a = [1, 2, 3]\n",
        "b = a[:]\n",
        "a[1] = 4\n",
        "a"
      ],
      "metadata": {
        "colab": {
          "base_uri": "https://localhost:8080/"
        },
        "id": "MB4RsM62zrfJ",
        "outputId": "5cd38c31-e1d7-438d-aad5-c6a26e759241"
      },
      "execution_count": 10,
      "outputs": [
        {
          "output_type": "execute_result",
          "data": {
            "text/plain": [
              "[1, 4, 3]"
            ]
          },
          "metadata": {},
          "execution_count": 10
        }
      ]
    },
    {
      "cell_type": "code",
      "source": [
        "b # a 리스트 값을 바꾸더라도 b 리스트에는 아무런 영향이 없다."
      ],
      "metadata": {
        "colab": {
          "base_uri": "https://localhost:8080/"
        },
        "id": "k3uAbUQB0C1p",
        "outputId": "c120e10c-220b-45e2-ae98-6a079c7f81b8"
      },
      "execution_count": 11,
      "outputs": [
        {
          "output_type": "execute_result",
          "data": {
            "text/plain": [
              "[1, 2, 3]"
            ]
          },
          "metadata": {},
          "execution_count": 11
        }
      ]
    },
    {
      "cell_type": "code",
      "source": [
        "# copy 모듈 이용하기\n",
        "from copy import copy\n",
        "a = [1, 2, 3]\n",
        "b = copy(a) # 위 예에서 b = copy(a)는 b = a[:]과 동일\n",
        "b is a"
      ],
      "metadata": {
        "colab": {
          "base_uri": "https://localhost:8080/"
        },
        "id": "g5W75hke0Dcw",
        "outputId": "f5ba2cf2-dfde-43d6-cf2a-f16d621f7598"
      },
      "execution_count": 13,
      "outputs": [
        {
          "output_type": "execute_result",
          "data": {
            "text/plain": [
              "False"
            ]
          },
          "metadata": {},
          "execution_count": 13
        }
      ]
    },
    {
      "cell_type": "code",
      "source": [
        "# 변수를 만드는 여러 가지 방법 - 튜플\n",
        "a, b = ('python', 'life')\n",
        "(a, b) = 'python', 'life'"
      ],
      "metadata": {
        "id": "gO17-Vvj0UBR"
      },
      "execution_count": 14,
      "outputs": []
    },
    {
      "cell_type": "code",
      "source": [
        "# 변수를 만드는 여러 가지 방법 - 리스트\n",
        "[a, b] = ['python', 'life']"
      ],
      "metadata": {
        "id": "IJ3a9ld80mIA"
      },
      "execution_count": 15,
      "outputs": []
    },
    {
      "cell_type": "code",
      "source": [
        "# 변수를 만드는 여러 가지 방법 - 여러 개의 변수에 같은 값을 대입\n",
        "a = b = 'python'"
      ],
      "metadata": {
        "id": "JBzn43uf0ubg"
      },
      "execution_count": 16,
      "outputs": []
    },
    {
      "cell_type": "code",
      "source": [
        "# 두 변수의 값 바꾸기\n",
        "a = 3\n",
        "b = 5\n",
        "a, b  = b, a"
      ],
      "metadata": {
        "id": "sjptzthb03sY"
      },
      "execution_count": 17,
      "outputs": []
    },
    {
      "cell_type": "code",
      "source": [
        "a"
      ],
      "metadata": {
        "colab": {
          "base_uri": "https://localhost:8080/"
        },
        "id": "f0Ahzs4K1ABA",
        "outputId": "0fa0cb4a-15af-4fcd-d83b-7b1d0e0547c2"
      },
      "execution_count": 18,
      "outputs": [
        {
          "output_type": "execute_result",
          "data": {
            "text/plain": [
              "5"
            ]
          },
          "metadata": {},
          "execution_count": 18
        }
      ]
    },
    {
      "cell_type": "code",
      "source": [
        "b"
      ],
      "metadata": {
        "colab": {
          "base_uri": "https://localhost:8080/"
        },
        "id": "io4IlXhm1Axg",
        "outputId": "f766750c-d8c1-48f9-c60a-58b7de51a3d8"
      },
      "execution_count": 19,
      "outputs": [
        {
          "output_type": "execute_result",
          "data": {
            "text/plain": [
              "3"
            ]
          },
          "metadata": {},
          "execution_count": 19
        }
      ]
    },
    {
      "cell_type": "code",
      "source": [],
      "metadata": {
        "id": "QYo-3uhZ1BCQ"
      },
      "execution_count": null,
      "outputs": []
    }
  ]
}