{
  "nbformat": 4,
  "nbformat_minor": 0,
  "metadata": {
    "colab": {
      "provenance": [],
      "authorship_tag": "ABX9TyOnyPru4pHnlkTPGW7Pu7i3",
      "include_colab_link": true
    },
    "kernelspec": {
      "name": "python3",
      "display_name": "Python 3"
    },
    "language_info": {
      "name": "python"
    }
  },
  "cells": [
    {
      "cell_type": "markdown",
      "metadata": {
        "id": "view-in-github",
        "colab_type": "text"
      },
      "source": [
        "<a href=\"https://colab.research.google.com/github/JKJ0918/pythonStudy24/blob/master/whileStudy.ipynb\" target=\"_parent\"><img src=\"https://colab.research.google.com/assets/colab-badge.svg\" alt=\"Open In Colab\"/></a>"
      ]
    },
    {
      "cell_type": "markdown",
      "source": [
        "while 문\n",
        "\n",
        "while 문은 문장을 반복해서 수행해야 되는 경우 활용 (반복문)\n",
        "\n",
        "반복문은 여러 데이터를 처리해야 하는 경우 사용함\n",
        "\n",
        "if문에서 성적처리를 할 때 1명의 데이터를 처리하지만 입력을 여러명 받아 더 큰 프로그램을 만들 수 있다.\n",
        "\n",
        "반복문은 while문과 for문으로 활용되는데 while문은 max가 없는 반복문일 경우\n",
        "for문은 max가 있는 경우 사용 됨\n",
        "\n",
        "while 조건문 :\n",
        "    실행문1\n",
        "    실행문2\n",
        "    실행문3\n",
        "\n",
        "java에서는 {} 으로 실행문의 블럭을 만들지만 파이썬은 들여쓰기로 판단함."
      ],
      "metadata": {
        "id": "GE6qu6ixfr5S"
      }
    },
    {
      "cell_type": "code",
      "execution_count": null,
      "metadata": {
        "colab": {
          "base_uri": "https://localhost:8080/"
        },
        "id": "-ZTn38H-fggp",
        "outputId": "aead2757-54cd-4882-8587-eb4c8fcdef04"
      },
      "outputs": [
        {
          "output_type": "stream",
          "name": "stdout",
          "text": [
            "나무를 1번 찍었습니다.\n",
            "아직 난 건강하지롱!!!!\n",
            "나무를 2번 찍었습니다.\n",
            "아직 난 건강하지롱!!!!\n",
            "나무를 3번 찍었습니다.\n",
            "아직 난 건강하지롱!!!!\n",
            "나무를 4번 찍었습니다.\n",
            "아직 난 건강하지롱!!!!\n",
            "나무를 5번 찍었습니다.\n",
            "아직 난 건강하지롱!!!!\n",
            "나무를 6번 찍었습니다.\n",
            "아직 난 건강하지롱!!!!\n",
            "나무를 7번 찍었습니다.\n",
            "아직 난 건강하지롱!!!!\n",
            "나무를 8번 찍었습니다.\n",
            "아직 난 건강하지롱!!!!\n",
            "나무를 9번 찍었습니다.\n",
            "아직 난 건강하지롱!!!!\n",
            "나무를 10번 찍었습니다.\n",
            "나무 넘어갑니다.\n"
          ]
        }
      ],
      "source": [
        "# 열번찍어 안넘어가는 나무 없다\n",
        "\n",
        "treeHit = 0\n",
        "while treeHit < 10:     # 조건 treeHit가 10보다 작으면\n",
        "    treeHit = treeHit + 1   # 반복중에 1씩 증가\n",
        "    print(\"나무를 %d번 찍었습니다.\" % treeHit)\n",
        "    if treeHit == 10:    # 도끼로 찍은 나무의 타격 횟수 10번인지 판단\n",
        "        print(\"나무 넘어갑니다.\")\n",
        "    else :\n",
        "        print(\"아직 난 건강하지롱!!!!\")"
      ]
    },
    {
      "cell_type": "code",
      "source": [
        "# 콘솔에서 프로그램 만들어 보기\n",
        "prompt = \"\"\"\n",
        "1. 학생가입\n",
        "2. 성적입력\n",
        "3. 성적출력\n",
        "4. Quit\n",
        "\n",
        "Enter number :\n",
        "\"\"\"\n",
        "\n",
        "number = 0          # 키보드로 전달되는 변수 초기값\n",
        "while number != 4:  # 4가 아닐때 까지 반복문 -> 4입력시 while문 종료\n",
        "    print(prompt)   # 4가 아닐때 prompt 출력\n",
        "    number = int(input())   # 반복중에 입력받을 프롬프트 비교 값\n",
        "\n"
      ],
      "metadata": {
        "colab": {
          "base_uri": "https://localhost:8080/"
        },
        "id": "8EwPc1BqitOR",
        "outputId": "a70fe9d8-83f0-4117-f415-db118b3928cb"
      },
      "execution_count": null,
      "outputs": [
        {
          "name": "stdout",
          "output_type": "stream",
          "text": [
            "\n",
            "1. 학생가입\n",
            "2. 성적입력\n",
            "3. 성적출력\n",
            "4. Quit\n",
            "\n",
            "Enter number :\n",
            "\n",
            "1\n",
            "\n",
            "1. 학생가입\n",
            "2. 성적입력\n",
            "3. 성적출력\n",
            "4. Quit\n",
            "\n",
            "Enter number :\n",
            "\n",
            "2\n",
            "\n",
            "1. 학생가입\n",
            "2. 성적입력\n",
            "3. 성적출력\n",
            "4. Quit\n",
            "\n",
            "Enter number :\n",
            "\n",
            "3\n",
            "\n",
            "1. 학생가입\n",
            "2. 성적입력\n",
            "3. 성적출력\n",
            "4. Quit\n",
            "\n",
            "Enter number :\n",
            "\n",
            "4\n"
          ]
        }
      ]
    },
    {
      "cell_type": "code",
      "source": [
        "# 커피 자판기 프로그램\n",
        "\n",
        "coffee = 10     # 커피는 총 10잔이 준비되어 있음\n",
        "money = 300     # 현재 입금된 금액은 300원\n",
        "\n",
        "while money :\n",
        "    print(\"돈을 받았으니 커피를 줍니다.\")\n",
        "    coffee = coffee - 1 # 1잔씩 소모\n",
        "    print(\"남은 커피 수량 %d 잔\" % coffee)\n",
        "\n",
        "    if coffee == 0 :\n",
        "        print(\"커피가 다 떨어졌습니다. 판매를 중지합니다.\")\n",
        "        break\n",
        "    else :\n",
        "        print(input(\"커피 드시고 싶으면 5,000원을 넣으세요.\"))"
      ],
      "metadata": {
        "colab": {
          "base_uri": "https://localhost:8080/"
        },
        "id": "3r_aIxfFkwqX",
        "outputId": "cd823187-9cf5-464c-af25-8d6a90f4e8a8"
      },
      "execution_count": null,
      "outputs": [
        {
          "output_type": "stream",
          "name": "stdout",
          "text": [
            "돈을 받았으니 커피를 줍니다.\n",
            "남은 커피 수량 9 잔\n",
            "커피 드시고 싶으면 5,000원을 넣으세요.1\n",
            "1\n",
            "돈을 받았으니 커피를 줍니다.\n",
            "남은 커피 수량 8 잔\n",
            "커피 드시고 싶으면 5,000원을 넣으세요.2\n",
            "2\n",
            "돈을 받았으니 커피를 줍니다.\n",
            "남은 커피 수량 7 잔\n",
            "커피 드시고 싶으면 5,000원을 넣으세요.3\n",
            "3\n",
            "돈을 받았으니 커피를 줍니다.\n",
            "남은 커피 수량 6 잔\n",
            "커피 드시고 싶으면 5,000원을 넣으세요.4\n",
            "커피 드시고 싶으면 5,000원을 넣으세요.5\n",
            "4\n",
            "돈을 받았으니 커피를 줍니다.\n",
            "남은 커피 수량 5 잔\n",
            "5\n",
            "돈을 받았으니 커피를 줍니다.\n",
            "남은 커피 수량 4 잔\n",
            "커피 드시고 싶으면 5,000원을 넣으세요.6\n",
            "6\n",
            "돈을 받았으니 커피를 줍니다.\n",
            "남은 커피 수량 3 잔\n",
            "커피 드시고 싶으면 5,000원을 넣으세요.7\n",
            "7\n",
            "돈을 받았으니 커피를 줍니다.\n",
            "남은 커피 수량 2 잔\n",
            "커피 드시고 싶으면 5,000원을 넣으세요.8\n",
            "8\n",
            "돈을 받았으니 커피를 줍니다.\n",
            "남은 커피 수량 1 잔\n",
            "커피 드시고 싶으면 5,000원을 넣으세요.9\n",
            "9\n",
            "돈을 받았으니 커피를 줍니다.\n",
            "남은 커피 수량 0 잔\n",
            "커피가 다 떨어졌습니다. 판매를 중지합니다.\n"
          ]
        }
      ]
    },
    {
      "cell_type": "code",
      "source": [
        "# 미션\n",
        "# 관리자가 커피가격과 커피명을 정하고 개수를 입력한다.\n",
        "# 소비자가 커피를 구매하는데 잔돈이 나와야 함\n",
        "# 판매 종료 후 관리자가 커피 판매한 총액을 파악해야 함.\n",
        "\n",
        "\n",
        "# 음료 데이터 저장할 리스트\n",
        "vending_machine = []\n",
        "\n",
        "# 등록할 음료의 종류 수 입력받기\n",
        "num_drinks = int(input(\"등록할 음료 종류의 수를 입력하세요: \"))\n",
        "\n",
        "# 음료 정보 입력받기\n",
        "i = 0\n",
        "while i < num_drinks:\n",
        "    print(f\"\\n{i+1}번째 음료 등록\")\n",
        "    name = input(\"음료 이름을 입력하세요: \")\n",
        "\n",
        "    # 가격 입력 및 숫자 확인\n",
        "    while True:\n",
        "        price_input = input(\"음료 가격을 입력하세요 (숫자): \")\n",
        "        if price_input.isdigit():  # 숫자인지 확인\n",
        "            price = int(price_input)  # 정수로 변환\n",
        "            break\n",
        "        else:\n",
        "            print(\"가격은 숫자만 입력 가능합니다. 다시 입력해주세요.\")\n",
        "\n",
        "    while True:\n",
        "        quantity_input = input(\"판매 수량을 입력하세요 (숫자): \")\n",
        "        if quantity_input.isdigit():  # 숫자인지 확인\n",
        "            quantity = int(quantity_input)  # 정수로 변환\n",
        "            break\n",
        "        else:\n",
        "            print(\"수량은 숫자만 입력 가능합니다. 다시 입력해주세요.\")\n",
        "\n",
        "    # 음료 정보 저장\n",
        "    vending_machine.append({\"name\": name, \"price\": price, \"quantity\": quantity})\n",
        "    i += 1\n",
        "\n",
        "\n",
        "# 등록된 음료 출력\n",
        "print(\"\\n등록된 음료 목록:\")\n",
        "for drink in vending_machine:\n",
        "    print(f\"이름: {drink['name']}, 가격: {drink['price']}원, 수량: {drink['quantity']}개\")\n",
        "\n",
        "# drink 변수는 for 반복문 안에서 자동으로 생성된 변수\n",
        "# for 루프를 사용할 때 반복 대상의 각 요소를 임시로 참조할 변수를 지정할 수 있는데,\n",
        "# 여기서 그 변수가 바로 drink\n",
        "\n",
        "\n",
        "# 소비자 구매\n",
        "\n",
        "total_sales = 0  # 총 판매 금액\n",
        "while True:\n",
        "    pick_name = input(\"\\n구매하실 음료의 이름을 적어주세요 (종료: '끝') : \")\n",
        "    if pick_name == \"끝\":\n",
        "        break\n",
        "\n",
        "    # 음료 찾기\n",
        "    selected_drink = next((drink for drink in vending_machine if drink[\"name\"] == pick_name), None)\n",
        "     # [<결과값> for <변수> in <리스트> if <조건>]\n",
        "     # None 위 코드에서 None은 next() 함수의 **기본값(default value)**으로 설정\n",
        "     # 조건에 맞는 음료를 찾지 못했을 때 selected_drink에 None을 할당\n",
        "     # \"값이 없음을 명확히 표현\"하기 위해, 안전한 기본값, 에러 방지(StopIteration 예외가 발생)\n",
        "     # next(iterator, default_value)\n",
        "    if not selected_drink:\n",
        "        print(\"존재하지 않는 음료입니다. 다시 선택해주세요.\")\n",
        "        continue\n",
        "        # continue를 쓰지 않을 경우 selected_drink가 None값으로 아래 수량 입력으로 진행 될 수 있음\n",
        "        # continue의 역할은 다음 반복을 강제로 시작\n",
        "\n",
        "\n",
        "    # 수량 입력 및 확인 while\n",
        "    while True:\n",
        "        pick_amount = int(input(\"수량을 입력해 주세요 : \"))\n",
        "        if pick_amount > selected_drink[\"quantity\"]:\n",
        "            print(f\"죄송합니다. 재고가 부족합니다. 남은 수량: {selected_drink['quantity']}개\")\n",
        "        # if 문을 충족하지 수량 입력 및 확인 while로 감\n",
        "        else:\n",
        "            break\n",
        "\n",
        "    # 금액 입력 및 잔돈 계산\n",
        "    total_price = selected_drink[\"price\"] * pick_amount\n",
        "    print(f\"총 금액은 {total_price}원입니다.\")\n",
        "    while True:\n",
        "        paid = int(input(\"지불할 금액을 입력해주세요: \"))\n",
        "        if paid < total_price:\n",
        "            print(f\"금액이 부족합니다. {total_price - paid}원을 더 지불해주세요.\")\n",
        "        else:\n",
        "            change = paid - total_price\n",
        "            print(f\"거스름돈: {change}원\")\n",
        "            break\n",
        "\n",
        "    # 재고 차감 및 총 판매 금액 계산\n",
        "    selected_drink[\"quantity\"] -= pick_amount\n",
        "    total_sales += total_price\n",
        "    print(f\"{pick_amount}개의 {selected_drink['name']}을 구매하셨습니다. 남은 수량: {selected_drink['quantity']}개\")\n",
        "\n",
        "# 판매 종료 후 총액 출력\n",
        "print(f\"\\n판매 종료. 총 판매 금액은 {total_sales}원입니다.\")\n",
        "\n"
      ],
      "metadata": {
        "colab": {
          "base_uri": "https://localhost:8080/"
        },
        "id": "gkSPf1FuobGd",
        "outputId": "3646ac02-ba90-4077-cfc2-ed34e054daf4"
      },
      "execution_count": 7,
      "outputs": [
        {
          "output_type": "stream",
          "name": "stdout",
          "text": [
            "등록할 음료 종류의 수를 입력하세요: 2\n",
            "\n",
            "1번째 음료 등록\n",
            "음료 이름을 입력하세요: 콜라\n",
            "음료 가격을 입력하세요 (숫자): 500\n",
            "판매 수량을 입력하세요 (숫자): 20\n",
            "\n",
            "2번째 음료 등록\n",
            "음료 이름을 입력하세요: 사이다\n",
            "음료 가격을 입력하세요 (숫자): 600\n",
            "판매 수량을 입력하세요 (숫자): 15\n",
            "\n",
            "등록된 음료 목록:\n",
            "이름: 콜라, 가격: 500원, 수량: 20개\n",
            "이름: 사이다, 가격: 600원, 수량: 15개\n",
            "\n",
            "구매하실 음료의 이름을 적어주세요 (종료: '끝') : 콜라\n",
            "수량을 입력해 주세요 : 3\n",
            "총 금액은 1500원입니다.\n",
            "지불할 금액을 입력해주세요: 2500\n",
            "거스름돈: 1000원\n",
            "3개의 콜라을 구매하셨습니다. 남은 수량: 17개\n",
            "\n",
            "구매하실 음료의 이름을 적어주세요 (종료: '끝') : 끝\n",
            "\n",
            "판매 종료. 총 판매 금액은 1500원입니다.\n"
          ]
        }
      ]
    }
  ]
}