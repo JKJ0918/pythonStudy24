{
  "nbformat": 4,
  "nbformat_minor": 0,
  "metadata": {
    "colab": {
      "provenance": [],
      "authorship_tag": "ABX9TyOP6EyPAvf7dWYJ9THqan87",
      "include_colab_link": true
    },
    "kernelspec": {
      "name": "python3",
      "display_name": "Python 3"
    },
    "language_info": {
      "name": "python"
    }
  },
  "cells": [
    {
      "cell_type": "markdown",
      "metadata": {
        "id": "view-in-github",
        "colab_type": "text"
      },
      "source": [
        "<a href=\"https://colab.research.google.com/github/JKJ0918/pythonStudy24/blob/master/IFstudy.ipynb\" target=\"_parent\"><img src=\"https://colab.research.google.com/assets/colab-badge.svg\" alt=\"Open In Colab\"/></a>"
      ]
    },
    {
      "cell_type": "markdown",
      "source": [
        "프로그램의 판단을 할 수 있는 조건문인 if를 사용해본다.\n",
        "\n",
        "if문은 만약에 라는 의미를 가지고 있고 결과는 참, 거짓으로 판단한다."
      ],
      "metadata": {
        "id": "vQ1og8yVnwtA"
      }
    },
    {
      "cell_type": "code",
      "execution_count": 7,
      "metadata": {
        "colab": {
          "base_uri": "https://localhost:8080/"
        },
        "id": "pljS4JpZnapd",
        "outputId": "5f399d3a-b70b-4852-e445-46a115f6854c"
      },
      "outputs": [
        {
          "output_type": "stream",
          "name": "stdout",
          "text": [
            "택시를 타고 가라\n",
            "모범택시는 비싸니 다음 택시를 기다려라\n",
            "택시가 안보이면 카카오택시를 불러라\n"
          ]
        }
      ],
      "source": [
        "# 돈이 있으면 택시를 타고 가고, 돈이 없으면 걸어간다.\n",
        "\n",
        "money = True                  # 돈이 있으면\n",
        "if money:                     # 파이썬에는 {} 없기 때문에 : 으로 구문을 내림\n",
        "  print(\"택시를 타고 가라\")   # True 일때 처리 (하위 처리를 위해서 띄어쓰기 4번을 진행)\n",
        "  print(\"모범택시는 비싸니 다음 택시를 기다려라\")\n",
        "  print(\"택시가 안보이면 카카오택시를 불러라\")\n",
        "else:                         # False 일때 처리\n",
        "  print(\"==========\")\n",
        "  print(\"걸어 가라\")          # Flase 용 명령어\n",
        "  print(\"==========\")"
      ]
    },
    {
      "cell_type": "code",
      "source": [
        "money = 2000\n",
        "if money >= 3000 :              # if 뒤에 써지는 문장이 조건이 됨 :\n",
        "  print(\"택시를 타고 가라\")     # True\n",
        "else:\n",
        "  print(\"걸어 가라\")           # False"
      ],
      "metadata": {
        "colab": {
          "base_uri": "https://localhost:8080/"
        },
        "id": "E4hZktjmv4Aj",
        "outputId": "ac2dabab-e1b3-4297-91a6-980c67b450e6"
      },
      "execution_count": 9,
      "outputs": [
        {
          "output_type": "stream",
          "name": "stdout",
          "text": [
            "걸어가시오\n"
          ]
        }
      ]
    },
    {
      "cell_type": "code",
      "source": [
        "# x or y -> 또는 ( 둘중 하나만 참이어도 참 )\n",
        "# x and y -> ~이고 ( 둘다 참이어야 참)\n",
        "# not x -> x가 아니면 참(거짓, 반전)\n",
        "\n",
        "# 돈이 3000원 이상 있거나 카드가 있다면 택시를 타고 가고, 아니면 걸어가라\n",
        "\n",
        "money = 2000\n",
        "card = True\n",
        "\n",
        "if money >= 3000 or card:\n",
        "  print(\"택시를 타고 가라\")\n",
        "else:\n",
        "  print(\"걸어가라\")\n",
        "\n",
        "# or 연산 진리표\n",
        "# money    card     =     결과\n",
        "#   0        0             0\n",
        "#   1        0             1\n",
        "#   0        1             1\n",
        "#   1        1             1"
      ],
      "metadata": {
        "colab": {
          "base_uri": "https://localhost:8080/"
        },
        "id": "1xxrlB8KwbgC",
        "outputId": "ce5337f4-c543-45bc-ea16-34b26f07a4b5"
      },
      "execution_count": 10,
      "outputs": [
        {
          "output_type": "stream",
          "name": "stdout",
          "text": [
            "택시를 타고 가라\n"
          ]
        }
      ]
    },
    {
      "cell_type": "code",
      "source": [
        "#  in             , not in\n",
        "#  x in 리스트    , x not in 리스트\n",
        "#  x in 튜플      , x not in 튜플\n",
        "#  x in 문자열    , x not in 문자열\n",
        "\n",
        "1 not in [1, 2, 3]  # 리스트 -> 1이 1,2,3 안에 없지? > False 있잔아"
      ],
      "metadata": {
        "colab": {
          "base_uri": "https://localhost:8080/"
        },
        "id": "f7qm8nFzzBqx",
        "outputId": "fd2607a0-ae81-4ac8-c512-fcb41f886eda"
      },
      "execution_count": 13,
      "outputs": [
        {
          "output_type": "execute_result",
          "data": {
            "text/plain": [
              "False"
            ]
          },
          "metadata": {},
          "execution_count": 13
        }
      ]
    },
    {
      "cell_type": "code",
      "source": [
        "'a' in ('a', 'b', 'c') # 튜플"
      ],
      "metadata": {
        "colab": {
          "base_uri": "https://localhost:8080/"
        },
        "id": "M5DtFud3z2va",
        "outputId": "bd48652d-5f57-4187-b2c0-9a6db820276d"
      },
      "execution_count": 14,
      "outputs": [
        {
          "output_type": "execute_result",
          "data": {
            "text/plain": [
              "True"
            ]
          },
          "metadata": {},
          "execution_count": 14
        }
      ]
    },
    {
      "cell_type": "code",
      "source": [
        "'j' not in 'python'"
      ],
      "metadata": {
        "colab": {
          "base_uri": "https://localhost:8080/"
        },
        "id": "S9BuX3m30C1x",
        "outputId": "ee75a80c-bc84-4306-cd92-101f4067e3b2"
      },
      "execution_count": 15,
      "outputs": [
        {
          "output_type": "execute_result",
          "data": {
            "text/plain": [
              "True"
            ]
          },
          "metadata": {},
          "execution_count": 15
        }
      ]
    },
    {
      "cell_type": "code",
      "source": [
        "# 만약 주머니에 돈이 있으면 택시를 타고가고, 없으면 걸어가라\n",
        "pocket = ['paper', 'cellphone', 'money']\n",
        "\n",
        "if 'money' in pocket:\n",
        "    print(\"택시를 타고 가라\")\n",
        "else:\n",
        "    print(\"걸어가라\")"
      ],
      "metadata": {
        "colab": {
          "base_uri": "https://localhost:8080/"
        },
        "id": "S8jOcZxe2jFY",
        "outputId": "65aab6d1-29cd-4092-e8d8-0f0e0633ed6e"
      },
      "execution_count": 16,
      "outputs": [
        {
          "output_type": "stream",
          "name": "stdout",
          "text": [
            "택시를 타고 가라\n"
          ]
        }
      ]
    },
    {
      "cell_type": "code",
      "source": [
        "# 조건문에서 아무 일도 하지 않게 설정하고 싶을 때 pass\n",
        "# 조건문의 참, 거짓에 따라 실행할 행동을 정의할 때나 아무런 일도 하지 않도록 설정하고 싶을 때\n",
        "\n",
        "# 주머니에 돈이 있으면 가만히 있고, 주머니에 돈이 없으면 카드를 꺼내라\n",
        "\n",
        "pocket = ['paper', 'smartPhone', 'money']\n",
        "if 'money' in pocket:\n",
        "    pass     # skip 같은 의미\n",
        "else :\n",
        "    print(\"카드를 꺼내라\")"
      ],
      "metadata": {
        "id": "Pi8waIGG3Mv-"
      },
      "execution_count": 17,
      "outputs": []
    },
    {
      "cell_type": "code",
      "source": [
        "# elif는 if문 아래쪽에 한번 더 비교하는 조건문 (elif의 사용횟수는 무제한)\n",
        "\n",
        "# 주머니에 돈이 있으면 택시를 타고 가고,\n",
        "# 주머니에 돈은 없지만 카드가 있으면 택시를 타고 가고,\n",
        "# 주머니에 돈도 없고 카드도 없으면 걸어가라.\n",
        "\n",
        "pocket = ['paper', 'cellphone']\n",
        "if 'money' in pocket:\n",
        "  print('택시를 타라')\n",
        "elif 'card' in pocket:\n",
        "  print('택시를 타라')\n",
        "else:\n",
        "  print('걸어가라')\n"
      ],
      "metadata": {
        "colab": {
          "base_uri": "https://localhost:8080/"
        },
        "id": "t4rU_foQ7XC9",
        "outputId": "a7578e12-1a4e-41e9-952f-55a716d7123e"
      },
      "execution_count": 19,
      "outputs": [
        {
          "output_type": "stream",
          "name": "stdout",
          "text": [
            "걸어가라\n"
          ]
        }
      ]
    },
    {
      "cell_type": "code",
      "source": [
        "# 패션코딩 -> 최대한 간결하게 코딩하는 기법\n",
        "pocket = ['paper', 'cellphone']\n",
        "card = True\n",
        "\n",
        "if 'money' in pocket: print('택시를 타라')\n",
        "elif 'card' in pocket: print('택시를 타라')\n",
        "else: print('걸어가라')"
      ],
      "metadata": {
        "colab": {
          "base_uri": "https://localhost:8080/"
        },
        "id": "V9fDK2Wf-7sT",
        "outputId": "82d50920-afd2-46ae-b101-9148527afe76"
      },
      "execution_count": 20,
      "outputs": [
        {
          "output_type": "stream",
          "name": "stdout",
          "text": [
            "걸어가라\n"
          ]
        }
      ]
    },
    {
      "cell_type": "code",
      "source": [
        "# 시험 점수가 60점 이상이면, success, 아니면 failure를 변수에 담아 출력 해보자.\n",
        "score = 88\n",
        "\n",
        "if score >= 60 :\n",
        "     message = \"success\"\n",
        "else :\n",
        "     message = \"failure\"\n",
        "print(message)"
      ],
      "metadata": {
        "colab": {
          "base_uri": "https://localhost:8080/"
        },
        "id": "-DB9NfLE_WzS",
        "outputId": "a7510fef-73a4-4e5a-b531-ba1808455c9b"
      },
      "execution_count": 22,
      "outputs": [
        {
          "output_type": "stream",
          "name": "stdout",
          "text": [
            "success\n"
          ]
        }
      ]
    },
    {
      "cell_type": "code",
      "source": [
        "# 파이썬의 조건부 표현식\n",
        "# 변수 = 참인경우의 값 if 조건문 else 거짓인 경우의 값\n",
        "message = \"success\" if score >= 60 else \"failure\"\n",
        "print(message)"
      ],
      "metadata": {
        "colab": {
          "base_uri": "https://localhost:8080/"
        },
        "id": "4sVOcETi_9gi",
        "outputId": "8577593e-bb27-4546-a476-407dc73f1ab4"
      },
      "execution_count": 24,
      "outputs": [
        {
          "output_type": "stream",
          "name": "stdout",
          "text": [
            "success\n"
          ]
        }
      ]
    },
    {
      "cell_type": "code",
      "source": [
        "# 미션\n",
        "# 성적 처리 코드 작성 a등급 ~ f등급까지 출력\n",
        "name = input(\"이름 : \")\n",
        "score_java= int(input(\"자바 점수 : \"))\n",
        "score_python= int(input(\"파이썬 점수 : \"))\n",
        "score_db= int(input(\"데이터베이스 점수 : \"))\n",
        "\n",
        "avg = int((score_java+score_python+score_db)/3)\n",
        "\n",
        "print(\"평균점수 : %d\" % avg)\n",
        "if avg >= 90 : print(\"A등급\")\n",
        "elif avg >= 80 : print(\"B등급\")\n",
        "elif avg >= 70 : print(\"C등급\")\n",
        "elif avg >= 60 : print(\"D등급\")\n",
        "elif avg >= 50 : print(\"E등급\")\n",
        "elif avg >= 40 : print(\"F등급\")\n",
        "else : print(\"재수강\")"
      ],
      "metadata": {
        "colab": {
          "base_uri": "https://localhost:8080/"
        },
        "id": "pHDcIjhOA7BZ",
        "outputId": "022d6a8c-4fbf-41da-9f71-1116533d5338"
      },
      "execution_count": 42,
      "outputs": [
        {
          "output_type": "stream",
          "name": "stdout",
          "text": [
            "이름 : 김테스트\n",
            "자바 점수 : 20\n",
            "파이썬 점수 : 30\n",
            "데이터베이스 점수 : 60\n",
            "평균점수 : 36\n",
            "재수강\n"
          ]
        }
      ]
    }
  ]
}