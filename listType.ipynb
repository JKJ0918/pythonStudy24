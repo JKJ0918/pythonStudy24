{
  "nbformat": 4,
  "nbformat_minor": 0,
  "metadata": {
    "colab": {
      "provenance": [],
      "authorship_tag": "ABX9TyOoXzM8/3kPgrgoRreblPG5",
      "include_colab_link": true
    },
    "kernelspec": {
      "name": "python3",
      "display_name": "Python 3"
    },
    "language_info": {
      "name": "python"
    }
  },
  "cells": [
    {
      "cell_type": "markdown",
      "metadata": {
        "id": "view-in-github",
        "colab_type": "text"
      },
      "source": [
        "<a href=\"https://colab.research.google.com/github/JKJ0918/pythonStudy24/blob/master/listType.ipynb\" target=\"_parent\"><img src=\"https://colab.research.google.com/assets/colab-badge.svg\" alt=\"Open In Colab\"/></a>"
      ]
    },
    {
      "cell_type": "markdown",
      "source": [
        "테이블 자료처리 : 각각의 객체를 모아서 처리하는 용도\n",
        "\n",
        "\n",
        "*   리스트 자료형\n",
        "*   튜플 자료형\n",
        "*   딕셔너리 자료형\n",
        "*   집합 자료형\n",
        "\n",
        "\n"
      ],
      "metadata": {
        "id": "u2aDP2HbXsOL"
      }
    },
    {
      "cell_type": "code",
      "execution_count": 1,
      "metadata": {
        "id": "bxZSMdgnW7pO"
      },
      "outputs": [],
      "source": [
        "# 리스트 자료형 : 대괄호 이용하여 감싸고 쉼표로 요소를 구분함.\n",
        "\n",
        "odd = [1, 3, 5, 7, 9] # 자바에 배열과 유사하나 배열은 초기 행렬값을 갖는다.(배열의 크기조정 불가) -> arraylist\n",
        "\n",
        "a = [] # 빈리스트 -> a = list() 도 생성 가능\n",
        "b = [1, 2, 3] # 정수형 리스트\n",
        "c = ['Life', 'is', 'too', 'short'] # 문자형 리스트\n",
        "d = [1, 2, 'Life', 'is'] # 혼합형 리스트\n",
        "e = [1, 2, ['Life', 'is']] # 리스트의 리스트"
      ]
    },
    {
      "cell_type": "code",
      "source": [
        "# 리스트 인덱싱\n",
        "a = [1, 2, 3]\n",
        "print(a[0]) # a리스트에 0번 인덱스를 출력"
      ],
      "metadata": {
        "colab": {
          "base_uri": "https://localhost:8080/"
        },
        "id": "-nD4mDBwbbXx",
        "outputId": "203de739-ebcd-438c-ae56-7d6642b7a21a"
      },
      "execution_count": 5,
      "outputs": [
        {
          "output_type": "stream",
          "name": "stdout",
          "text": [
            "1\n"
          ]
        }
      ]
    },
    {
      "cell_type": "code",
      "source": [
        "a[0] + a[2]"
      ],
      "metadata": {
        "colab": {
          "base_uri": "https://localhost:8080/"
        },
        "id": "VefME76eb00_",
        "outputId": "73ce450b-e902-417e-d07d-c2a90aa562d4"
      },
      "execution_count": 7,
      "outputs": [
        {
          "output_type": "execute_result",
          "data": {
            "text/plain": [
              "4"
            ]
          },
          "metadata": {},
          "execution_count": 7
        }
      ]
    },
    {
      "cell_type": "code",
      "source": [
        "a[-1] # 마지막 요소값"
      ],
      "metadata": {
        "colab": {
          "base_uri": "https://localhost:8080/"
        },
        "id": "byLkqB_tcCWv",
        "outputId": "ddb70c69-3711-4285-b39a-66d61c3d8350"
      },
      "execution_count": 9,
      "outputs": [
        {
          "output_type": "execute_result",
          "data": {
            "text/plain": [
              "3"
            ]
          },
          "metadata": {},
          "execution_count": 9
        }
      ]
    },
    {
      "cell_type": "code",
      "source": [
        "a = [1, 2, 3, ['a', 'b', 'c']]  # 2차원 배열\n",
        "a[-1][0]                        # 2차원 배열을 출력하려면 [행][열]\n"
      ],
      "metadata": {
        "colab": {
          "base_uri": "https://localhost:8080/",
          "height": 35
        },
        "id": "hzp_ghO3cTQn",
        "outputId": "f4ff62d0-86f7-4b91-a092-1e3fbe4deae8"
      },
      "execution_count": 13,
      "outputs": [
        {
          "output_type": "execute_result",
          "data": {
            "text/plain": [
              "'a'"
            ],
            "application/vnd.google.colaboratory.intrinsic+json": {
              "type": "string"
            }
          },
          "metadata": {},
          "execution_count": 13
        }
      ]
    },
    {
      "cell_type": "code",
      "source": [
        "# 3차원 배열 -> 사진이나 영상 처리, 게임 (가로, 세로 ->픽셀, 깊이 -> RGB 컬러)\n",
        "MEMBER = [ [\"강원기\", [\"교사\",312]] ,[\"오한별\", [\"학생\",312]] ,[\"신창섭\", [\"학생2\",311]] ,[\"헤리슨\", [\"학생3\",313]]]\n",
        "MEMBER [1][1][1]"
      ],
      "metadata": {
        "colab": {
          "base_uri": "https://localhost:8080/"
        },
        "id": "buAvlOQWdLOn",
        "outputId": "36076a26-108e-4a64-a7c8-ca3ee45b56c8"
      },
      "execution_count": 16,
      "outputs": [
        {
          "output_type": "execute_result",
          "data": {
            "text/plain": [
              "312"
            ]
          },
          "metadata": {},
          "execution_count": 16
        }
      ]
    },
    {
      "cell_type": "code",
      "source": [
        "# 리스트 슬라이싱\n",
        "a = [1, 2, 3, 4, 5]\n",
        "a[0:2]"
      ],
      "metadata": {
        "colab": {
          "base_uri": "https://localhost:8080/"
        },
        "id": "IvL_Uk_1lhxb",
        "outputId": "b6b6808c-42ca-44e2-da36-72e7e69a1c45"
      },
      "execution_count": 17,
      "outputs": [
        {
          "output_type": "execute_result",
          "data": {
            "text/plain": [
              "[1, 2]"
            ]
          },
          "metadata": {},
          "execution_count": 17
        }
      ]
    },
    {
      "cell_type": "code",
      "source": [
        "a[:2] # 처음부터 2번인덱스 전까지"
      ],
      "metadata": {
        "colab": {
          "base_uri": "https://localhost:8080/"
        },
        "id": "EM6AoIEvl91S",
        "outputId": "799ea5ae-79ab-47f9-f882-362a998f0503"
      },
      "execution_count": 19,
      "outputs": [
        {
          "output_type": "execute_result",
          "data": {
            "text/plain": [
              "[1, 2]"
            ]
          },
          "metadata": {},
          "execution_count": 19
        }
      ]
    },
    {
      "cell_type": "code",
      "source": [
        "a[2:] # 2번부터 마지막 까지"
      ],
      "metadata": {
        "colab": {
          "base_uri": "https://localhost:8080/"
        },
        "id": "p2dWX01jmGJh",
        "outputId": "0188ac85-8536-406d-a98a-62c725d555de"
      },
      "execution_count": 21,
      "outputs": [
        {
          "output_type": "execute_result",
          "data": {
            "text/plain": [
              "[3, 4, 5]"
            ]
          },
          "metadata": {},
          "execution_count": 21
        }
      ]
    },
    {
      "cell_type": "code",
      "source": [
        "a = [1, 2, 3, ['a', 'b', 'c'], 4, 5]\n",
        "#    0  1  2         3         4  5\n",
        "a[2:5]\n",
        "a[3][1:] # 미션 b, c 를 슬라이싱 해본다"
      ],
      "metadata": {
        "colab": {
          "base_uri": "https://localhost:8080/"
        },
        "id": "zoq6j4jumULS",
        "outputId": "bf446569-041e-4695-87fb-8ef8bd0798a7"
      },
      "execution_count": 27,
      "outputs": [
        {
          "output_type": "execute_result",
          "data": {
            "text/plain": [
              "['b', 'c']"
            ]
          },
          "metadata": {},
          "execution_count": 27
        }
      ]
    },
    {
      "cell_type": "code",
      "source": [
        "# 리스트 연산 : +, * 를 활용할 수 있다.\n",
        "a = [1, 2, 3]\n",
        "b = [4, 5, 6]\n",
        "a + b  # 문자열의 '+' 계산과 유사하다."
      ],
      "metadata": {
        "colab": {
          "base_uri": "https://localhost:8080/"
        },
        "id": "GIcYrlyamqQa",
        "outputId": "07b54ba7-160a-4a28-8747-125350659501"
      },
      "execution_count": 29,
      "outputs": [
        {
          "output_type": "execute_result",
          "data": {
            "text/plain": [
              "[1, 2, 3, 4, 5, 6]"
            ]
          },
          "metadata": {},
          "execution_count": 29
        }
      ]
    },
    {
      "cell_type": "code",
      "source": [
        "a * 3"
      ],
      "metadata": {
        "colab": {
          "base_uri": "https://localhost:8080/"
        },
        "id": "PiBGVk4bnfKx",
        "outputId": "7f9ba547-7e7a-49e8-9a42-d776450631fb"
      },
      "execution_count": 31,
      "outputs": [
        {
          "output_type": "execute_result",
          "data": {
            "text/plain": [
              "[1, 2, 3, 1, 2, 3, 1, 2, 3]"
            ]
          },
          "metadata": {},
          "execution_count": 31
        }
      ]
    },
    {
      "cell_type": "code",
      "source": [
        "# 리스트의 길이 구하기\n",
        "len(a)"
      ],
      "metadata": {
        "colab": {
          "base_uri": "https://localhost:8080/"
        },
        "id": "WItx3hFenuGR",
        "outputId": "62d57bbb-9f9d-44c2-f4b4-9ba71fb20ee1"
      },
      "execution_count": 34,
      "outputs": [
        {
          "output_type": "execute_result",
          "data": {
            "text/plain": [
              "3"
            ]
          },
          "metadata": {},
          "execution_count": 34
        }
      ]
    },
    {
      "cell_type": "code",
      "source": [
        "# 리스트에 글자 추가하기\n",
        "a = [1, 2, 3]\n",
        "a[2] + \"hi\" # 3hi ??????"
      ],
      "metadata": {
        "colab": {
          "base_uri": "https://localhost:8080/",
          "height": 184
        },
        "id": "OGPkliZWoOnJ",
        "outputId": "53d30951-cc62-4c52-c093-06456f56bea1"
      },
      "execution_count": 35,
      "outputs": [
        {
          "output_type": "error",
          "ename": "TypeError",
          "evalue": "unsupported operand type(s) for +: 'int' and 'str'",
          "traceback": [
            "\u001b[0;31m---------------------------------------------------------------------------\u001b[0m",
            "\u001b[0;31mTypeError\u001b[0m                                 Traceback (most recent call last)",
            "\u001b[0;32m<ipython-input-35-430a2a9606ec>\u001b[0m in \u001b[0;36m<cell line: 3>\u001b[0;34m()\u001b[0m\n\u001b[1;32m      1\u001b[0m \u001b[0;31m# 리스트에 글자 추가하기\u001b[0m\u001b[0;34m\u001b[0m\u001b[0;34m\u001b[0m\u001b[0m\n\u001b[1;32m      2\u001b[0m \u001b[0ma\u001b[0m \u001b[0;34m=\u001b[0m \u001b[0;34m[\u001b[0m\u001b[0;36m1\u001b[0m\u001b[0;34m,\u001b[0m \u001b[0;36m2\u001b[0m\u001b[0;34m,\u001b[0m \u001b[0;36m3\u001b[0m\u001b[0;34m]\u001b[0m\u001b[0;34m\u001b[0m\u001b[0;34m\u001b[0m\u001b[0m\n\u001b[0;32m----> 3\u001b[0;31m \u001b[0ma\u001b[0m\u001b[0;34m[\u001b[0m\u001b[0;36m2\u001b[0m\u001b[0;34m]\u001b[0m \u001b[0;34m+\u001b[0m \u001b[0;34m\"hi\"\u001b[0m \u001b[0;31m# 3hi ??????\u001b[0m\u001b[0;34m\u001b[0m\u001b[0;34m\u001b[0m\u001b[0m\n\u001b[0m",
            "\u001b[0;31mTypeError\u001b[0m: unsupported operand type(s) for +: 'int' and 'str'"
          ]
        }
      ]
    },
    {
      "cell_type": "code",
      "source": [
        "str(a[2]) + \"hi\" # str(정수) -> 정수가 문자열로 변환 \"3\" + \"hi\""
      ],
      "metadata": {
        "colab": {
          "base_uri": "https://localhost:8080/",
          "height": 35
        },
        "id": "H5hqcxhfo1ig",
        "outputId": "940f8504-e2cd-4dfc-a869-8eecbb98ead6"
      },
      "execution_count": 37,
      "outputs": [
        {
          "output_type": "execute_result",
          "data": {
            "text/plain": [
              "'3hi'"
            ],
            "application/vnd.google.colaboratory.intrinsic+json": {
              "type": "string"
            }
          },
          "metadata": {},
          "execution_count": 37
        }
      ]
    },
    {
      "cell_type": "code",
      "source": [
        "# 리스트 값 수정, 삭제\n",
        "a = [1, 2, 3]\n",
        "a[2] = 4\n",
        "a\n"
      ],
      "metadata": {
        "colab": {
          "base_uri": "https://localhost:8080/"
        },
        "id": "GLad1aLLo5x4",
        "outputId": "ebcdfc75-2200-4930-9bdb-c431324e1833"
      },
      "execution_count": 47,
      "outputs": [
        {
          "output_type": "execute_result",
          "data": {
            "text/plain": [
              "[1, 2, 4]"
            ]
          },
          "metadata": {},
          "execution_count": 47
        }
      ]
    },
    {
      "cell_type": "code",
      "source": [
        "del a[2] # del 명령어는 객체를 삭제하는 명령어\n",
        "a"
      ],
      "metadata": {
        "colab": {
          "base_uri": "https://localhost:8080/"
        },
        "id": "DmAERVNWpnJg",
        "outputId": "3d971c57-987b-431b-a486-64f6bef15c46"
      },
      "execution_count": 48,
      "outputs": [
        {
          "output_type": "execute_result",
          "data": {
            "text/plain": [
              "[1, 2]"
            ]
          },
          "metadata": {},
          "execution_count": 48
        }
      ]
    },
    {
      "cell_type": "code",
      "source": [
        "a = [1, 2, 3, 4, 5]\n",
        "del a[2:]\n",
        "a"
      ],
      "metadata": {
        "colab": {
          "base_uri": "https://localhost:8080/"
        },
        "id": "IwCMaclisFhX",
        "outputId": "8f263957-f622-4f30-b3ab-177cc918e540"
      },
      "execution_count": 44,
      "outputs": [
        {
          "output_type": "execute_result",
          "data": {
            "text/plain": [
              "[1, 2]"
            ]
          },
          "metadata": {},
          "execution_count": 44
        }
      ]
    },
    {
      "cell_type": "code",
      "source": [
        "# 리스트 관련 함수\n",
        "\n",
        "# .append() : 이미 만들어진 리스트에 객체를 추가할때 (뒷쪽)\n",
        "a = [1, 2, 3]\n",
        "a.append(4)\n",
        "a"
      ],
      "metadata": {
        "colab": {
          "base_uri": "https://localhost:8080/"
        },
        "id": "avoMBWMGsN9g",
        "outputId": "e7807bda-4457-4c8f-e4bc-64220e98515c"
      },
      "execution_count": 45,
      "outputs": [
        {
          "output_type": "execute_result",
          "data": {
            "text/plain": [
              "[1, 2, 3, 4]"
            ]
          },
          "metadata": {},
          "execution_count": 45
        }
      ]
    },
    {
      "cell_type": "code",
      "source": [
        "a.append([5,6])\n",
        "a"
      ],
      "metadata": {
        "colab": {
          "base_uri": "https://localhost:8080/"
        },
        "id": "Xd3evNWXsRav",
        "outputId": "49c8649d-7472-47a2-c374-773a238c9a67"
      },
      "execution_count": 46,
      "outputs": [
        {
          "output_type": "execute_result",
          "data": {
            "text/plain": [
              "[1, 2, 3, 4, [5, 6]]"
            ]
          },
          "metadata": {},
          "execution_count": 46
        }
      ]
    },
    {
      "cell_type": "code",
      "source": [
        "# sort() : 리스트 요소를 정렬 해준다.\n",
        "a = [1, 4, 3, 2]\n",
        "a.sort()  # 오름차순 정렬\n",
        "a"
      ],
      "metadata": {
        "colab": {
          "base_uri": "https://localhost:8080/"
        },
        "id": "tiFLpye1sUY_",
        "outputId": "5443b2ec-2ed3-4ee3-bd45-351fb217017a"
      },
      "execution_count": 50,
      "outputs": [
        {
          "output_type": "execute_result",
          "data": {
            "text/plain": [
              "[1, 2, 3, 4]"
            ]
          },
          "metadata": {},
          "execution_count": 50
        }
      ]
    },
    {
      "cell_type": "code",
      "source": [
        "a.reverse()   # 내림차순 정렬\n",
        "a"
      ],
      "metadata": {
        "colab": {
          "base_uri": "https://localhost:8080/"
        },
        "id": "WWTYU-Lswfwd",
        "outputId": "9d5b337d-2343-4551-b8ec-ecd812b61077"
      },
      "execution_count": 53,
      "outputs": [
        {
          "output_type": "execute_result",
          "data": {
            "text/plain": [
              "[4, 3, 2, 1]"
            ]
          },
          "metadata": {},
          "execution_count": 53
        }
      ]
    },
    {
      "cell_type": "code",
      "source": [
        "a = [6, \"엄복동\", 'a', '@']\n",
        "a.sort #  석어쓰면 정렬 안됨\n",
        "a"
      ],
      "metadata": {
        "colab": {
          "base_uri": "https://localhost:8080/"
        },
        "id": "bDO-MlSxwr7s",
        "outputId": "cff3be56-640d-4f54-c6ac-72983a9c18df"
      },
      "execution_count": 63,
      "outputs": [
        {
          "output_type": "execute_result",
          "data": {
            "text/plain": [
              "[6, '엄복동', 'a', '@']"
            ]
          },
          "metadata": {},
          "execution_count": 63
        }
      ]
    },
    {
      "cell_type": "code",
      "source": [
        "a.reverse\n",
        "a"
      ],
      "metadata": {
        "colab": {
          "base_uri": "https://localhost:8080/"
        },
        "id": "Za1jyyI9w6CE",
        "outputId": "c795d822-b9bd-4191-eda3-72d6f180789e"
      },
      "execution_count": 57,
      "outputs": [
        {
          "output_type": "execute_result",
          "data": {
            "text/plain": [
              "[6, '엄복동', 'a', '@']"
            ]
          },
          "metadata": {},
          "execution_count": 57
        }
      ]
    },
    {
      "cell_type": "code",
      "source": [
        "b = ['z', 'b', 'd', 'g', 'k']\n",
        "b.sort()\n",
        "b"
      ],
      "metadata": {
        "colab": {
          "base_uri": "https://localhost:8080/"
        },
        "id": "XLQmnWx1xHd8",
        "outputId": "3a96e7f4-2d73-410e-e4c5-db8e2b658627"
      },
      "execution_count": 60,
      "outputs": [
        {
          "output_type": "execute_result",
          "data": {
            "text/plain": [
              "['b', 'd', 'g', 'k', 'z']"
            ]
          },
          "metadata": {},
          "execution_count": 60
        }
      ]
    },
    {
      "cell_type": "code",
      "source": [
        "c = [\"파이썬\", \"자바\", \"씨언어\", \"씨쁠쁠\"]\n",
        "c.sort()  # 한글 정렬이 됨\n",
        "c"
      ],
      "metadata": {
        "colab": {
          "base_uri": "https://localhost:8080/"
        },
        "id": "Sw8xD9cexcY8",
        "outputId": "db58d180-9398-4e7b-c8b1-8058907062ae"
      },
      "execution_count": 64,
      "outputs": [
        {
          "output_type": "execute_result",
          "data": {
            "text/plain": [
              "['씨쁠쁠', '씨언어', '자바', '파이썬']"
            ]
          },
          "metadata": {},
          "execution_count": 64
        }
      ]
    },
    {
      "cell_type": "code",
      "source": [
        "# 인덱스 반환 .index(주소)\n",
        "\n",
        "a = [1, 2, 3]\n",
        "#    0  1  2 인덱스\n",
        "a.index(3)"
      ],
      "metadata": {
        "colab": {
          "base_uri": "https://localhost:8080/"
        },
        "id": "TuQELK_DxzME",
        "outputId": "7438ef8b-8641-40ed-b086-04a669abc4ee"
      },
      "execution_count": 66,
      "outputs": [
        {
          "output_type": "execute_result",
          "data": {
            "text/plain": [
              "2"
            ]
          },
          "metadata": {},
          "execution_count": 66
        }
      ]
    },
    {
      "cell_type": "code",
      "source": [
        "a.index(1)"
      ],
      "metadata": {
        "colab": {
          "base_uri": "https://localhost:8080/"
        },
        "id": "X-nfew4PyMob",
        "outputId": "92d0c724-db70-49ae-95b0-62a209915a1e"
      },
      "execution_count": 68,
      "outputs": [
        {
          "output_type": "execute_result",
          "data": {
            "text/plain": [
              "0"
            ]
          },
          "metadata": {},
          "execution_count": 68
        }
      ]
    },
    {
      "cell_type": "code",
      "source": [
        "a.index(4)"
      ],
      "metadata": {
        "colab": {
          "base_uri": "https://localhost:8080/",
          "height": 147
        },
        "id": "5kkV9YTEyO_T",
        "outputId": "96e816e9-af4c-4c7a-e306-33a7b484ad66"
      },
      "execution_count": 69,
      "outputs": [
        {
          "output_type": "error",
          "ename": "ValueError",
          "evalue": "4 is not in list",
          "traceback": [
            "\u001b[0;31m---------------------------------------------------------------------------\u001b[0m",
            "\u001b[0;31mValueError\u001b[0m                                Traceback (most recent call last)",
            "\u001b[0;32m<ipython-input-69-bca86892130e>\u001b[0m in \u001b[0;36m<cell line: 1>\u001b[0;34m()\u001b[0m\n\u001b[0;32m----> 1\u001b[0;31m \u001b[0ma\u001b[0m\u001b[0;34m.\u001b[0m\u001b[0mindex\u001b[0m\u001b[0;34m(\u001b[0m\u001b[0;36m4\u001b[0m\u001b[0;34m)\u001b[0m\u001b[0;34m\u001b[0m\u001b[0;34m\u001b[0m\u001b[0m\n\u001b[0m",
            "\u001b[0;31mValueError\u001b[0m: 4 is not in list"
          ]
        }
      ]
    },
    {
      "cell_type": "code",
      "source": [
        "#리스트에 요소 삽입 .insert(인덱스, 값)\n",
        "a = [1, 2, 3]\n",
        "a.insert(0, 4)    # 0번지에 4값을 추가하고, 기존 값은 인덱스가 밀림.\n",
        "a"
      ],
      "metadata": {
        "colab": {
          "base_uri": "https://localhost:8080/"
        },
        "id": "SorwhdrlyQrr",
        "outputId": "0a115640-7dda-4258-b693-b1c4551cfda9"
      },
      "execution_count": 71,
      "outputs": [
        {
          "output_type": "execute_result",
          "data": {
            "text/plain": [
              "[4, 1, 2, 3]"
            ]
          },
          "metadata": {},
          "execution_count": 71
        }
      ]
    },
    {
      "cell_type": "code",
      "source": [
        "a.insert(3,3) # 3번지에 5값을 추가하고 기존값은 인덱스가 밀림 (계속 집어넣을 수 있는 것을 확인)\n",
        "a"
      ],
      "metadata": {
        "colab": {
          "base_uri": "https://localhost:8080/"
        },
        "id": "IFKrIbU0zUwM",
        "outputId": "5661c49b-05ea-4abf-df68-7a9a1beb5763"
      },
      "execution_count": 80,
      "outputs": [
        {
          "output_type": "execute_result",
          "data": {
            "text/plain": [
              "[1, 2, 5, 3, 5, 5, 5]"
            ]
          },
          "metadata": {},
          "execution_count": 80
        }
      ]
    },
    {
      "cell_type": "code",
      "source": [
        "a.remove(3) # .remove(값) 값이 제거된다.\n",
        "a"
      ],
      "metadata": {
        "colab": {
          "base_uri": "https://localhost:8080/"
        },
        "id": "uZj6tfoJzqdi",
        "outputId": "242d3519-13f4-41ed-ca46-db8ae4e5801d"
      },
      "execution_count": 81,
      "outputs": [
        {
          "output_type": "execute_result",
          "data": {
            "text/plain": [
              "[1, 2, 5, 5, 5, 5]"
            ]
          },
          "metadata": {},
          "execution_count": 81
        }
      ]
    },
    {
      "cell_type": "code",
      "source": [
        "b = [3, 1, 3, 13, 1, 3, 1]\n",
        "b.remove(3) # 3이 여러개 일대는 앞에 쪽에 있는 요소만 제거된다.\n",
        "b"
      ],
      "metadata": {
        "colab": {
          "base_uri": "https://localhost:8080/"
        },
        "id": "9AR6H5bS0IET",
        "outputId": "f6b799e4-5529-4f4a-ab32-3ee618825a93"
      },
      "execution_count": 84,
      "outputs": [
        {
          "output_type": "execute_result",
          "data": {
            "text/plain": [
              "[1, 3, 13, 1, 3, 1]"
            ]
          },
          "metadata": {},
          "execution_count": 84
        }
      ]
    },
    {
      "cell_type": "code",
      "source": [
        "b.remove(3)\n",
        "b"
      ],
      "metadata": {
        "colab": {
          "base_uri": "https://localhost:8080/"
        },
        "id": "WsvD1El50Qwz",
        "outputId": "d7af08dd-abad-43c8-d9b7-c34c4a21791a"
      },
      "execution_count": 85,
      "outputs": [
        {
          "output_type": "execute_result",
          "data": {
            "text/plain": [
              "[1, 13, 1, 3, 1]"
            ]
          },
          "metadata": {},
          "execution_count": 85
        }
      ]
    },
    {
      "cell_type": "code",
      "source": [
        "# 리스트 요소 끄집어 내기 .pop(인덱스)\n",
        "\n",
        "c = [1, 2, 3, 4, 5, 6]\n",
        "c.pop()"
      ],
      "metadata": {
        "colab": {
          "base_uri": "https://localhost:8080/"
        },
        "id": "24PRG2ka0agW",
        "outputId": "1506b568-b66f-438a-c8a3-18075551fb54"
      },
      "execution_count": 86,
      "outputs": [
        {
          "output_type": "execute_result",
          "data": {
            "text/plain": [
              "6"
            ]
          },
          "metadata": {},
          "execution_count": 86
        }
      ]
    },
    {
      "cell_type": "code",
      "source": [
        "c"
      ],
      "metadata": {
        "colab": {
          "base_uri": "https://localhost:8080/"
        },
        "id": "6fZS8nR-00rU",
        "outputId": "ec31e734-eb1d-4c14-e531-83054fbc0c6a"
      },
      "execution_count": 87,
      "outputs": [
        {
          "output_type": "execute_result",
          "data": {
            "text/plain": [
              "[1, 2, 3, 4, 5]"
            ]
          },
          "metadata": {},
          "execution_count": 87
        }
      ]
    },
    {
      "cell_type": "code",
      "source": [
        "c.pop(3)"
      ],
      "metadata": {
        "colab": {
          "base_uri": "https://localhost:8080/"
        },
        "id": "_6QPAsTp01Qy",
        "outputId": "66675892-7d33-4706-d8e6-c5b8d678face"
      },
      "execution_count": 88,
      "outputs": [
        {
          "output_type": "execute_result",
          "data": {
            "text/plain": [
              "4"
            ]
          },
          "metadata": {},
          "execution_count": 88
        }
      ]
    },
    {
      "cell_type": "code",
      "source": [
        "c"
      ],
      "metadata": {
        "colab": {
          "base_uri": "https://localhost:8080/"
        },
        "id": "_ZTTtm8-1Jbc",
        "outputId": "7aab299b-b9a0-4870-cf2c-fb0f6a7e5ea6"
      },
      "execution_count": 90,
      "outputs": [
        {
          "output_type": "execute_result",
          "data": {
            "text/plain": [
              "[1, 2, 3, 5]"
            ]
          },
          "metadata": {},
          "execution_count": 90
        }
      ]
    },
    {
      "cell_type": "code",
      "source": [
        "d = [3, 13, 13, 13, 33, 11, 3, 1, 3, 3, 1, 3]\n",
        "\n",
        "d.count(3)  # 값이 몇개 인지"
      ],
      "metadata": {
        "colab": {
          "base_uri": "https://localhost:8080/"
        },
        "id": "M7hKIvu41gci",
        "outputId": "bee66c5f-cd64-47d6-b86f-45630e68a13a"
      },
      "execution_count": 92,
      "outputs": [
        {
          "output_type": "execute_result",
          "data": {
            "text/plain": [
              "5"
            ]
          },
          "metadata": {},
          "execution_count": 92
        }
      ]
    },
    {
      "cell_type": "code",
      "source": [
        "len(d)"
      ],
      "metadata": {
        "colab": {
          "base_uri": "https://localhost:8080/"
        },
        "id": "fI-f4RGY1h_K",
        "outputId": "bb5027e0-e7f1-4933-a8ee-bc1ffcc7dcf6"
      },
      "execution_count": 94,
      "outputs": [
        {
          "output_type": "execute_result",
          "data": {
            "text/plain": [
              "12"
            ]
          },
          "metadata": {},
          "execution_count": 94
        }
      ]
    },
    {
      "cell_type": "code",
      "source": [
        "# 리스트 확장 : extend(x) x는 리스트만 올수 있으며 a[] + x[]\n",
        "e = [1,2,3]\n",
        "e.extend([4,5])\n",
        "e"
      ],
      "metadata": {
        "colab": {
          "base_uri": "https://localhost:8080/"
        },
        "id": "5yp0x0YQ2KaK",
        "outputId": "48b7d09f-09ca-4098-d8f5-4b2c610386f6"
      },
      "execution_count": 98,
      "outputs": [
        {
          "output_type": "execute_result",
          "data": {
            "text/plain": [
              "[1, 2, 3, 4, 5]"
            ]
          },
          "metadata": {},
          "execution_count": 98
        }
      ]
    },
    {
      "cell_type": "code",
      "source": [
        "f = [6, 7, 8]\n",
        "e.extend(f)\n",
        "e"
      ],
      "metadata": {
        "colab": {
          "base_uri": "https://localhost:8080/"
        },
        "id": "59noOMFm2hsS",
        "outputId": "97517f1a-26e0-4e13-c7c4-a69adbdc1870"
      },
      "execution_count": 99,
      "outputs": [
        {
          "output_type": "execute_result",
          "data": {
            "text/plain": [
              "[1, 2, 3, 4, 5, 6, 7, 8]"
            ]
          },
          "metadata": {},
          "execution_count": 99
        }
      ]
    }
  ]
}