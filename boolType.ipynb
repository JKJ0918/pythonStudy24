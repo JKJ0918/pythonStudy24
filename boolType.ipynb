{
  "nbformat": 4,
  "nbformat_minor": 0,
  "metadata": {
    "colab": {
      "provenance": [],
      "authorship_tag": "ABX9TyMEtceuk+A5u12HmLshTPWW",
      "include_colab_link": true
    },
    "kernelspec": {
      "name": "python3",
      "display_name": "Python 3"
    },
    "language_info": {
      "name": "python"
    }
  },
  "cells": [
    {
      "cell_type": "markdown",
      "metadata": {
        "id": "view-in-github",
        "colab_type": "text"
      },
      "source": [
        "<a href=\"https://colab.research.google.com/github/JKJ0918/pythonStudy24/blob/master/boolType.ipynb\" target=\"_parent\"><img src=\"https://colab.research.google.com/assets/colab-badge.svg\" alt=\"Open In Colab\"/></a>"
      ]
    },
    {
      "cell_type": "markdown",
      "source": [
        "불 자료형\n",
        "\n",
        "불(bool) 자료형이란 참(True)과 거짓(False)을 나타내는 자료형이다.\n",
        "\n",
        "True나 False는 파이썬의 예약어로, true, false와 같이 작성하면 안 되고 첫 문자를 항상 대문자로 작성해야 한다."
      ],
      "metadata": {
        "id": "nOj855F0qac2"
      }
    },
    {
      "cell_type": "code",
      "execution_count": 3,
      "metadata": {
        "colab": {
          "base_uri": "https://localhost:8080/"
        },
        "id": "lepovwjupoc-",
        "outputId": "fa54257d-0bf7-4643-9d30-ead8380a9ed2"
      },
      "outputs": [
        {
          "output_type": "execute_result",
          "data": {
            "text/plain": [
              "bool"
            ]
          },
          "metadata": {},
          "execution_count": 3
        }
      ],
      "source": [
        "a = True\n",
        "b = False\n",
        "\n",
        "type(a)\n",
        "type(b)"
      ]
    },
    {
      "cell_type": "code",
      "source": [
        "1 == 1"
      ],
      "metadata": {
        "colab": {
          "base_uri": "https://localhost:8080/"
        },
        "id": "PuRKKwj8q5Xn",
        "outputId": "3a13fd18-096a-4194-c457-bf3ff2f5c8fc"
      },
      "execution_count": 4,
      "outputs": [
        {
          "output_type": "execute_result",
          "data": {
            "text/plain": [
              "True"
            ]
          },
          "metadata": {},
          "execution_count": 4
        }
      ]
    },
    {
      "cell_type": "code",
      "source": [
        "2 > 1"
      ],
      "metadata": {
        "colab": {
          "base_uri": "https://localhost:8080/"
        },
        "id": "8ihZ0aIwrEpN",
        "outputId": "0bc58c2a-6fdb-469b-9b47-d5403e2db66d"
      },
      "execution_count": 5,
      "outputs": [
        {
          "output_type": "execute_result",
          "data": {
            "text/plain": [
              "True"
            ]
          },
          "metadata": {},
          "execution_count": 5
        }
      ]
    },
    {
      "cell_type": "code",
      "source": [
        "2 < 1"
      ],
      "metadata": {
        "colab": {
          "base_uri": "https://localhost:8080/"
        },
        "id": "fVp1U9-DrJcd",
        "outputId": "494b1a14-46ad-41d7-cb82-abffebd7a30d"
      },
      "execution_count": 6,
      "outputs": [
        {
          "output_type": "execute_result",
          "data": {
            "text/plain": [
              "False"
            ]
          },
          "metadata": {},
          "execution_count": 6
        }
      ]
    },
    {
      "cell_type": "markdown",
      "source": [
        "자료형의 참과 거짓\n",
        "\n",
        "문자열, 리스트, 튜플, 딕셔너리 등의 값이 비어 있으면(\"\", [], (), {}) 거짓이 되고 비어 있지 않으면 참이 된다."
      ],
      "metadata": {
        "id": "XivP4Sg7sKvF"
      }
    },
    {
      "cell_type": "code",
      "source": [
        "a = [1, 2, 3, 4]\n",
        "while a:\n",
        "  print(a.pop())\n",
        "# 마지막 a가 빈 리스트([])가 되어 False(거짓)이 되어 while 문 동작 멈춤"
      ],
      "metadata": {
        "colab": {
          "base_uri": "https://localhost:8080/"
        },
        "id": "uDUjds9XsTMG",
        "outputId": "34bbeacf-53cc-4293-cdc1-8201d41ce1eb"
      },
      "execution_count": 8,
      "outputs": [
        {
          "output_type": "stream",
          "name": "stdout",
          "text": [
            "4\n",
            "3\n",
            "2\n",
            "1\n"
          ]
        }
      ]
    },
    {
      "cell_type": "code",
      "source": [
        "if [1, 2, 3] :\n",
        "  print(\"[1, 2, 3]은 요솟값이 있는 리스트이므로 True\")\n",
        "else:\n",
        "  print(\"없을 경우 False\")"
      ],
      "metadata": {
        "colab": {
          "base_uri": "https://localhost:8080/"
        },
        "id": "9mplo-fyseLF",
        "outputId": "a70db861-b16a-47f0-fe9d-6bfbbb0cbb57"
      },
      "execution_count": 10,
      "outputs": [
        {
          "output_type": "stream",
          "name": "stdout",
          "text": [
            "[1, 2, 3]은 요솟값이 있는 리스트이므로 True\n"
          ]
        }
      ]
    },
    {
      "cell_type": "markdown",
      "source": [
        "불 연산"
      ],
      "metadata": {
        "id": "YsRZO20OtQHk"
      }
    },
    {
      "cell_type": "code",
      "source": [
        "bool('python')"
      ],
      "metadata": {
        "colab": {
          "base_uri": "https://localhost:8080/"
        },
        "id": "i79jgm2FtCBd",
        "outputId": "8e66a3a8-3811-42f0-b2b8-55c86343607c"
      },
      "execution_count": 11,
      "outputs": [
        {
          "output_type": "execute_result",
          "data": {
            "text/plain": [
              "True"
            ]
          },
          "metadata": {},
          "execution_count": 11
        }
      ]
    },
    {
      "cell_type": "code",
      "source": [
        "bool('') # 비어있으므로 False return"
      ],
      "metadata": {
        "colab": {
          "base_uri": "https://localhost:8080/"
        },
        "id": "h9sMgQLstUzE",
        "outputId": "0f903853-278f-4025-ad46-4a3379d323a9"
      },
      "execution_count": 12,
      "outputs": [
        {
          "output_type": "execute_result",
          "data": {
            "text/plain": [
              "False"
            ]
          },
          "metadata": {},
          "execution_count": 12
        }
      ]
    },
    {
      "cell_type": "code",
      "source": [
        "bool([1, 2, 3])"
      ],
      "metadata": {
        "colab": {
          "base_uri": "https://localhost:8080/"
        },
        "id": "I1YlrFMVtV9c",
        "outputId": "4bee71a5-91a4-4828-ac65-e0683d3ea126"
      },
      "execution_count": 13,
      "outputs": [
        {
          "output_type": "execute_result",
          "data": {
            "text/plain": [
              "True"
            ]
          },
          "metadata": {},
          "execution_count": 13
        }
      ]
    },
    {
      "cell_type": "code",
      "source": [
        "bool([])"
      ],
      "metadata": {
        "colab": {
          "base_uri": "https://localhost:8080/"
        },
        "id": "DsYMfo4ftaVM",
        "outputId": "0aa2d4ee-9c5f-4fc9-9fce-cba52d793203"
      },
      "execution_count": 14,
      "outputs": [
        {
          "output_type": "execute_result",
          "data": {
            "text/plain": [
              "False"
            ]
          },
          "metadata": {},
          "execution_count": 14
        }
      ]
    },
    {
      "cell_type": "code",
      "source": [
        "bool(0)"
      ],
      "metadata": {
        "colab": {
          "base_uri": "https://localhost:8080/"
        },
        "id": "K3ddJ2VjtbM8",
        "outputId": "b866751b-c4f2-4ec1-9ac0-82327f940189"
      },
      "execution_count": 15,
      "outputs": [
        {
          "output_type": "execute_result",
          "data": {
            "text/plain": [
              "False"
            ]
          },
          "metadata": {},
          "execution_count": 15
        }
      ]
    },
    {
      "cell_type": "code",
      "source": [
        "bool(3)"
      ],
      "metadata": {
        "colab": {
          "base_uri": "https://localhost:8080/"
        },
        "id": "b7bW9P3gtcXV",
        "outputId": "6deda958-ac6f-437d-bbfb-b1c98ef5d527"
      },
      "execution_count": 16,
      "outputs": [
        {
          "output_type": "execute_result",
          "data": {
            "text/plain": [
              "True"
            ]
          },
          "metadata": {},
          "execution_count": 16
        }
      ]
    },
    {
      "cell_type": "code",
      "source": [],
      "metadata": {
        "id": "eyrprZZ_tdNk"
      },
      "execution_count": null,
      "outputs": []
    }
  ]
}