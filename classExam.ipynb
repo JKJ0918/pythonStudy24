{
  "nbformat": 4,
  "nbformat_minor": 0,
  "metadata": {
    "colab": {
      "provenance": [],
      "authorship_tag": "ABX9TyMAGuK/2a2rCqhRFmBvBqfl",
      "include_colab_link": true
    },
    "kernelspec": {
      "name": "python3",
      "display_name": "Python 3"
    },
    "language_info": {
      "name": "python"
    }
  },
  "cells": [
    {
      "cell_type": "markdown",
      "metadata": {
        "id": "view-in-github",
        "colab_type": "text"
      },
      "source": [
        "<a href=\"https://colab.research.google.com/github/JKJ0918/pythonStudy24/blob/master/classExam.ipynb\" target=\"_parent\"><img src=\"https://colab.research.google.com/assets/colab-badge.svg\" alt=\"Open In Colab\"/></a>"
      ]
    },
    {
      "cell_type": "markdown",
      "source": [
        "# 클래스는 객체 지향 언어의 필수로 각각의 객체를 담당한다.\n",
        "\n",
        "# 만약 shopingMall 프로젝트를 만든다고 하면\n",
        "# 회원용.py -> 동작(메서드) C, R, U, D 에 other\n",
        "# 아이템.py -> 동작(메서드) C, R, U, D 에 other\n",
        "# 게시판.py -> 동작(메서드) C, R, U, D 에 other\n",
        "# 장바구니.py -> 동작(메서드) C, R, U, D 에 other\n",
        "# main.py와 연동되게 설정한다."
      ],
      "metadata": {
        "id": "67PrhED2iqP8"
      }
    },
    {
      "cell_type": "code",
      "execution_count": 1,
      "metadata": {
        "colab": {
          "base_uri": "https://localhost:8080/"
        },
        "id": "SF4zcfJ2ib2r",
        "outputId": "a3e08092-e516-4424-b60f-d6fe678a8fe5"
      },
      "outputs": [
        {
          "output_type": "stream",
          "name": "stdout",
          "text": [
            "4\n"
          ]
        }
      ],
      "source": [
        "# 계산기 처리용 클래스\n",
        "result = 0              # 결과값 처리용 변수\n",
        "\n",
        "def add(num) :\n",
        "    global result       # 전역변수 사용\n",
        "    result += num       # 메서드에 입력값을 더함\n",
        "    return result       # 결과를 보냄\n",
        "\n",
        "print(add(4))           # 위에 만든 메서드에 4를 입력하고 리턴값을 출력"
      ]
    },
    {
      "cell_type": "code",
      "source": [
        "print(add(9))"
      ],
      "metadata": {
        "colab": {
          "base_uri": "https://localhost:8080/"
        },
        "id": "LzunqquGk8Pq",
        "outputId": "aa50a30c-11f0-41fa-faa8-ecc6ff90f4a2"
      },
      "execution_count": 2,
      "outputs": [
        {
          "output_type": "stream",
          "name": "stdout",
          "text": [
            "13\n"
          ]
        }
      ]
    },
    {
      "cell_type": "code",
      "source": [
        "# 만일 한 프로그램에서 2대의 계산기가 필요한 상황이면?\n",
        "\n",
        "result1 = 0\n",
        "result2 = 0\n",
        "\n",
        "def add1(num):\n",
        "    global result1\n",
        "    result1 += num\n",
        "    return result1\n",
        "\n",
        "def add2(num):\n",
        "    global result2\n",
        "    result2 += num\n",
        "    return result2"
      ],
      "metadata": {
        "id": "1RtecElqlPD5"
      },
      "execution_count": null,
      "outputs": []
    },
    {
      "cell_type": "code",
      "source": [
        "# 클래스를 이용한 계산기 (권장)\n",
        "\n",
        "class Calculator :      # 객체 생성용 (생성자용메서드, 일반메서드)\n",
        "    def __init__(self) :    # 생성자 (객체 생성시 0순위로 처리됨)\n",
        "        self.result = 0     # 객체 자신에 result 변수를 만들고 0값을 넣음\n",
        "\n",
        "    def add(self, num) :    # 객체용 메서드\n",
        "        self.result += num  # 생성자에 있는 변수에 num을 누적합 저장\n",
        "        return self.result  # 결과를 리턴함."
      ],
      "metadata": {
        "id": "rag8LktkmCVR"
      },
      "execution_count": 3,
      "outputs": []
    },
    {
      "cell_type": "code",
      "source": [
        "# 객체를 생성함 변수에 연결 (java : Calculator cal1 = new Calculator())\n",
        "\n",
        "cal1 = Calculator()     # 객체 1\n",
        "cal2 = Calculator()     # 객체 2\n",
        "\n",
        "print(cal1.add(3))      # 1번 계산기"
      ],
      "metadata": {
        "colab": {
          "base_uri": "https://localhost:8080/"
        },
        "id": "lTCf9gVtnYjQ",
        "outputId": "d601c9bc-c0e1-4c9f-9594-3b16490230d9"
      },
      "execution_count": 4,
      "outputs": [
        {
          "output_type": "stream",
          "name": "stdout",
          "text": [
            "3\n"
          ]
        }
      ]
    },
    {
      "cell_type": "code",
      "source": [
        "print(cal2.add(9))      # 2번 계산기"
      ],
      "metadata": {
        "colab": {
          "base_uri": "https://localhost:8080/"
        },
        "id": "Hme9Auzzn1cR",
        "outputId": "202cbc18-915e-418b-9cdd-50eb5c8e1015"
      },
      "execution_count": 5,
      "outputs": [
        {
          "output_type": "stream",
          "name": "stdout",
          "text": [
            "9\n"
          ]
        }
      ]
    },
    {
      "cell_type": "code",
      "source": [
        "print(cal1.add(9))      # 1번 계산기"
      ],
      "metadata": {
        "colab": {
          "base_uri": "https://localhost:8080/"
        },
        "id": "odJcJTXIoBrw",
        "outputId": "90f67237-b81c-499d-cdde-0c31c21a049f"
      },
      "execution_count": 6,
      "outputs": [
        {
          "output_type": "stream",
          "name": "stdout",
          "text": [
            "12\n"
          ]
        }
      ]
    },
    {
      "cell_type": "code",
      "source": [
        "print(cal2.add(10))     # 2번 계산기"
      ],
      "metadata": {
        "colab": {
          "base_uri": "https://localhost:8080/"
        },
        "id": "-Z5s2J2ioD9q",
        "outputId": "c59a9172-fcc2-4da7-894f-f974510ea876"
      },
      "execution_count": 7,
      "outputs": [
        {
          "output_type": "stream",
          "name": "stdout",
          "text": [
            "19\n"
          ]
        }
      ]
    },
    {
      "cell_type": "code",
      "source": [
        "# 클래스를 활용한 사칙연산 계산기 만들기\n",
        "class FourCal :\n",
        "    # pass            # 아무기능없이 동작\n",
        "    # 필드 : 객체마다 가지고 있어야 할 데이터들 (dto, vo)\n",
        "    first = 0\n",
        "    second = 0\n",
        "\n",
        "    # 생성자 : 객체를 생성할때 필요한 무언가? (생성자의 이름은 __init__)\n",
        "\n",
        "\n",
        "    def __init__(self, first, second):\n",
        "        self.first = first\n",
        "        self.second = second\n",
        "\n",
        "\n",
        "    def setdata(self, first, second):       # 메서드 선언(self 필수)\n",
        "        self.first = first                  # this.first = first\n",
        "        self.second = second                # this.second = second\n",
        "\n",
        "    def add(self):\n",
        "        result = self.first + self.second\n",
        "        return result\n",
        "\n",
        "    def mul(self):\n",
        "        result = self.first * self.second\n",
        "        return result\n",
        "\n",
        "    def sub(self):\n",
        "        result = self.first - self.second\n",
        "        return result\n",
        "\n",
        "    def divmod(self):\n",
        "        result = self.first / self.second\n",
        "        return result"
      ],
      "metadata": {
        "id": "lyRZln-0p3Xv"
      },
      "execution_count": 20,
      "outputs": []
    },
    {
      "cell_type": "code",
      "source": [
        "a = FourCal()      # a 변수에 객체가 연결됨\n",
        "a.setdata(4,2)     # a 변수를 self로 처리함"
      ],
      "metadata": {
        "id": "LFKS8QX7qKvR"
      },
      "execution_count": 12,
      "outputs": []
    },
    {
      "cell_type": "code",
      "source": [
        "b = FourCal()\n",
        "FourCal.setdata(b, 4, 2)"
      ],
      "metadata": {
        "id": "LJPs2IN1ubxs"
      },
      "execution_count": 14,
      "outputs": []
    },
    {
      "cell_type": "code",
      "source": [
        "print (a.first)"
      ],
      "metadata": {
        "colab": {
          "base_uri": "https://localhost:8080/"
        },
        "id": "B5eytm5Yu5r8",
        "outputId": "2cfa37cd-8a05-4836-f75a-7ec84f117c29"
      },
      "execution_count": 15,
      "outputs": [
        {
          "output_type": "stream",
          "name": "stdout",
          "text": [
            "4\n"
          ]
        }
      ]
    },
    {
      "cell_type": "code",
      "source": [
        "print (b.second)"
      ],
      "metadata": {
        "colab": {
          "base_uri": "https://localhost:8080/"
        },
        "id": "IZ4ntGr2u8nb",
        "outputId": "244796d7-da8d-46ca-e3f6-91021263066a"
      },
      "execution_count": 16,
      "outputs": [
        {
          "output_type": "stream",
          "name": "stdout",
          "text": [
            "2\n"
          ]
        }
      ]
    },
    {
      "cell_type": "code",
      "source": [
        "c = FourCal()\n",
        "c.setdata(5, 5)\n",
        "c.mul()"
      ],
      "metadata": {
        "colab": {
          "base_uri": "https://localhost:8080/"
        },
        "id": "flAuO7j_wSR0",
        "outputId": "0f1aea78-b150-40e1-8558-5e7b1d6ea074"
      },
      "execution_count": 19,
      "outputs": [
        {
          "output_type": "execute_result",
          "data": {
            "text/plain": [
              "25"
            ]
          },
          "metadata": {},
          "execution_count": 19
        }
      ]
    },
    {
      "cell_type": "code",
      "source": [
        "d = FourCal(5,5)\n",
        "d.add()"
      ],
      "metadata": {
        "colab": {
          "base_uri": "https://localhost:8080/"
        },
        "id": "N0ykN9uiwqkk",
        "outputId": "e77e699f-c213-4556-ac09-c16d23f9afc8"
      },
      "execution_count": 23,
      "outputs": [
        {
          "output_type": "execute_result",
          "data": {
            "text/plain": [
              "10"
            ]
          },
          "metadata": {},
          "execution_count": 23
        }
      ]
    },
    {
      "cell_type": "code",
      "source": [
        "# 상속기능 : 부모가 만든 객체를 보완, 추가하는 기능\n",
        "class MoreFourCal(FourCal):         # 객체생성시(부모객체)\n",
        "\n",
        "    def pow(self):\n",
        "        result = self.first ** self.second\n",
        "        return result\n",
        "\n",
        "    # 오버라이딩 : 부모가만든 메서드를 변경하여 사용한다.\n",
        "    def divmod(self):\n",
        "        if self.second == 0:\n",
        "            return 0\n",
        "        else:\n",
        "            result = self.first / self.second\n",
        "            return result"
      ],
      "metadata": {
        "id": "x23suG4myMCC"
      },
      "execution_count": 33,
      "outputs": []
    },
    {
      "cell_type": "code",
      "source": [
        "e = MoreFourCal(4,4)\n",
        "e.pow()"
      ],
      "metadata": {
        "colab": {
          "base_uri": "https://localhost:8080/"
        },
        "id": "OzrmakPNzhDD",
        "outputId": "ba5baeaf-332b-4091-eaa7-f45d777e3f16"
      },
      "execution_count": 31,
      "outputs": [
        {
          "output_type": "execute_result",
          "data": {
            "text/plain": [
              "256"
            ]
          },
          "metadata": {},
          "execution_count": 31
        }
      ]
    },
    {
      "cell_type": "code",
      "source": [
        "f = MoreFourCal(4,0)\n",
        "f.divmod()"
      ],
      "metadata": {
        "colab": {
          "base_uri": "https://localhost:8080/"
        },
        "id": "Ep2oV3Xs021x",
        "outputId": "8229df3e-3af1-41fd-8e5b-f408e15a6196"
      },
      "execution_count": 34,
      "outputs": [
        {
          "output_type": "execute_result",
          "data": {
            "text/plain": [
              "0"
            ]
          },
          "metadata": {},
          "execution_count": 34
        }
      ]
    }
  ]
}