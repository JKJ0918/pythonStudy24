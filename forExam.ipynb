{
  "nbformat": 4,
  "nbformat_minor": 0,
  "metadata": {
    "colab": {
      "provenance": [],
      "authorship_tag": "ABX9TyP0Pcx47xv6k3Qp7kpfkHCe",
      "include_colab_link": true
    },
    "kernelspec": {
      "name": "python3",
      "display_name": "Python 3"
    },
    "language_info": {
      "name": "python"
    }
  },
  "cells": [
    {
      "cell_type": "markdown",
      "metadata": {
        "id": "view-in-github",
        "colab_type": "text"
      },
      "source": [
        "<a href=\"https://colab.research.google.com/github/JKJ0918/pythonStudy24/blob/master/forExam.ipynb\" target=\"_parent\"><img src=\"https://colab.research.google.com/assets/colab-badge.svg\" alt=\"Open In Colab\"/></a>"
      ]
    },
    {
      "cell_type": "markdown",
      "source": [
        "for 문 연습\n",
        "\n",
        "for 문은 while과 같은 반복문으로 차이점은 max가 있나 없나이다.\n",
        "\n",
        "for 문은 구구단과 같이 9라는 max 값이 있을 때 사용\n",
        "while은 max가 없지만 종료되는 시점을 만들어 제공(강제 종료 ctrl+c)\n",
        "\n",
        "for 변수 in 리스트 | 튜플 | 문자열 :\n",
        "    실행문 1\n",
        "    실행문 2\n",
        "\n",
        "자바의 향상 for문 forEach 문과 같다.\n"
      ],
      "metadata": {
        "id": "KBE_gpaGByys"
      }
    },
    {
      "cell_type": "code",
      "execution_count": 1,
      "metadata": {
        "colab": {
          "base_uri": "https://localhost:8080/"
        },
        "id": "QJ2W_aOcBqX0",
        "outputId": "949cf035-f35e-4cc8-eaab-29202839ab6f"
      },
      "outputs": [
        {
          "output_type": "stream",
          "name": "stdout",
          "text": [
            "one\n",
            "two\n",
            "three\n"
          ]
        }
      ],
      "source": [
        "# 전형적인 for 문\n",
        "\n",
        "test_list =  ['one', 'two', 'three']\n",
        "for i in test_list:\n",
        "    print(i)"
      ]
    },
    {
      "cell_type": "code",
      "source": [
        "# 다양한 for문 사용\n",
        "a = [(1,2), (3,4), (5,6)]\n",
        "for (first, last) in a:\n",
        "    print(first + last)"
      ],
      "metadata": {
        "colab": {
          "base_uri": "https://localhost:8080/"
        },
        "id": "EqwdNhzJEtaC",
        "outputId": "84181b89-4b1b-4d51-bcbe-1e1964850ea4"
      },
      "execution_count": 3,
      "outputs": [
        {
          "output_type": "stream",
          "name": "stdout",
          "text": [
            "3\n",
            "7\n",
            "11\n"
          ]
        }
      ]
    },
    {
      "cell_type": "code",
      "source": [
        "# 총 5명의 학생이 시험을 보았는데 시험 점수가 60점 이상이면\n",
        "# 합격이고 그렇지 않으면 불합격이다.\n",
        "# 배열 작명은 s 를 붙힌다.\n",
        "marks = [90, 25, 67, 45, 80]    # 학생별 시험 점수, 5명\n",
        "number = 0                      # 학생출력시 번호 지정\n",
        "for mark in marks:              # 리스트(marks)에 있는 객체를 앞에서부터 1개씩 가져와 mark 변수에 넣음\n",
        "    number = number + 1\n",
        "    if mark >= 60:\n",
        "        print(\"%d번 학생은 합격입니다.\" % number)\n",
        "    else :\n",
        "        print(\"%d번 학생은 불합격입니다.\" % number)\n"
      ],
      "metadata": {
        "colab": {
          "base_uri": "https://localhost:8080/"
        },
        "id": "NmK0A_PfFPI5",
        "outputId": "c8441ef7-10a6-4eca-8f0c-7ebb2a743795"
      },
      "execution_count": 5,
      "outputs": [
        {
          "output_type": "stream",
          "name": "stdout",
          "text": [
            "1번 학생은 합격입니다.\n",
            "2번 학생은 불합격입니다.\n",
            "3번 학생은 합격입니다.\n",
            "4번 학생은 불합격입니다.\n",
            "5번 학생은 합격입니다.\n"
          ]
        }
      ]
    },
    {
      "cell_type": "code",
      "source": [
        "# for + continue\n",
        "marks = [90, 25, 67, 45 , 80]       # 학생들의 점수 리스트\n",
        "number = 0                          # 학생번호\n",
        "for mark in marks:                  # 리스트 반복문\n",
        "    number = number + 1             # 학생번호 증가\n",
        "    if mark >= 60:                  # 점수가 < 60\n",
        "        continue                    # 점수가 60보다 작을 때 위로 올라감\n",
        "    print(\"%d 번 학생 축하합니다. 합격입니다.\" % number) # 60이상일 때 처리문"
      ],
      "metadata": {
        "colab": {
          "base_uri": "https://localhost:8080/"
        },
        "id": "w6YUZDQ0JeFI",
        "outputId": "7f82cabb-6c6f-4d87-b52f-ae5eeead9c5f"
      },
      "execution_count": 7,
      "outputs": [
        {
          "output_type": "stream",
          "name": "stdout",
          "text": [
            "2 번 학생 축하합니다. 합격입니다.\n",
            "4 번 학생 축하합니다. 합격입니다.\n"
          ]
        }
      ]
    },
    {
      "cell_type": "code",
      "source": [
        "# for 문과 같이 자주 쓰는 range()\n",
        "\n",
        "a = range(10)  # 0부터 10미만 숫자를 포함하는 객체를 만들어줌\n",
        "a              # 0~9까지 값을 가지고 있음"
      ],
      "metadata": {
        "colab": {
          "base_uri": "https://localhost:8080/"
        },
        "id": "W8zLAphuKViA",
        "outputId": "fba8c570-403b-4561-a665-f9dfb21d813a"
      },
      "execution_count": 9,
      "outputs": [
        {
          "output_type": "execute_result",
          "data": {
            "text/plain": [
              "range(0, 10)"
            ]
          },
          "metadata": {},
          "execution_count": 9
        }
      ]
    },
    {
      "cell_type": "code",
      "source": [
        "a = range(1, 11) # (시작값, 끝값 : 끝숫자는 포함되지 않는다.)\n",
        "a                # 1~10까지 값을 가지고 있음"
      ],
      "metadata": {
        "colab": {
          "base_uri": "https://localhost:8080/"
        },
        "id": "5KyBtIMfK0R2",
        "outputId": "c5bba74a-e2a9-44dd-ab03-74c746b0effa"
      },
      "execution_count": 12,
      "outputs": [
        {
          "output_type": "execute_result",
          "data": {
            "text/plain": [
              "range(1, 11)"
            ]
          },
          "metadata": {},
          "execution_count": 12
        }
      ]
    },
    {
      "cell_type": "code",
      "source": [
        "for i in range(1, 11):\n",
        "    print(i)"
      ],
      "metadata": {
        "colab": {
          "base_uri": "https://localhost:8080/"
        },
        "id": "BpJyXyVMLKgm",
        "outputId": "8256806f-3292-4fd6-9c8a-20d56c5c7b96"
      },
      "execution_count": 13,
      "outputs": [
        {
          "output_type": "stream",
          "name": "stdout",
          "text": [
            "1\n",
            "2\n",
            "3\n",
            "4\n",
            "5\n",
            "6\n",
            "7\n",
            "8\n",
            "9\n",
            "10\n"
          ]
        }
      ]
    },
    {
      "cell_type": "code",
      "source": [
        "marks = [90, 25, 67, 45, 80]\n",
        "for number in range(len(marks)) # 0 부터 marks의 길이 만큼을 number로 할당하여 반복\n",
        "                                # range(len(marks))는 리스트의 인덱스를 순차적으로 생성\n",
        "                                # marks는 리스트의 값을 순차적으로 가져옴\n",
        "    if marks[number] < 60 :\n",
        "        continue\n",
        "    print(\"%d번 학생 축하합니다. 합격입니다.\" % (number+1))"
      ],
      "metadata": {
        "colab": {
          "base_uri": "https://localhost:8080/",
          "height": 220
        },
        "id": "si-mzjPOLSP2",
        "outputId": "83858094-5f08-457d-aac3-7d77dbeee389"
      },
      "execution_count": 38,
      "outputs": [
        {
          "output_type": "error",
          "ename": "IndexError",
          "evalue": "list index out of range",
          "traceback": [
            "\u001b[0;31m---------------------------------------------------------------------------\u001b[0m",
            "\u001b[0;31mIndexError\u001b[0m                                Traceback (most recent call last)",
            "\u001b[0;32m<ipython-input-38-c32d23fdee67>\u001b[0m in \u001b[0;36m<cell line: 2>\u001b[0;34m()\u001b[0m\n\u001b[1;32m      1\u001b[0m \u001b[0mmarks\u001b[0m \u001b[0;34m=\u001b[0m \u001b[0;34m[\u001b[0m\u001b[0;36m90\u001b[0m\u001b[0;34m,\u001b[0m \u001b[0;36m25\u001b[0m\u001b[0;34m,\u001b[0m \u001b[0;36m67\u001b[0m\u001b[0;34m,\u001b[0m \u001b[0;36m45\u001b[0m\u001b[0;34m,\u001b[0m \u001b[0;36m80\u001b[0m\u001b[0;34m]\u001b[0m\u001b[0;34m\u001b[0m\u001b[0;34m\u001b[0m\u001b[0m\n\u001b[1;32m      2\u001b[0m \u001b[0;32mfor\u001b[0m \u001b[0mnumber\u001b[0m \u001b[0;32min\u001b[0m \u001b[0mmarks\u001b[0m\u001b[0;34m:\u001b[0m \u001b[0;31m# 0 부타 marks의 길이 만큼을 number로 할당하여 반복\u001b[0m\u001b[0;34m\u001b[0m\u001b[0;34m\u001b[0m\u001b[0m\n\u001b[0;32m----> 3\u001b[0;31m     \u001b[0;32mif\u001b[0m \u001b[0mmarks\u001b[0m\u001b[0;34m[\u001b[0m\u001b[0mnumber\u001b[0m\u001b[0;34m]\u001b[0m \u001b[0;34m<\u001b[0m \u001b[0;36m60\u001b[0m \u001b[0;34m:\u001b[0m\u001b[0;34m\u001b[0m\u001b[0;34m\u001b[0m\u001b[0m\n\u001b[0m\u001b[1;32m      4\u001b[0m         \u001b[0;32mcontinue\u001b[0m\u001b[0;34m\u001b[0m\u001b[0;34m\u001b[0m\u001b[0m\n\u001b[1;32m      5\u001b[0m     \u001b[0mprint\u001b[0m\u001b[0;34m(\u001b[0m\u001b[0;34m\"%d번 학생 축하합니다. 합격입니다.\"\u001b[0m \u001b[0;34m%\u001b[0m \u001b[0;34m(\u001b[0m\u001b[0mnumber\u001b[0m\u001b[0;34m+\u001b[0m\u001b[0;36m1\u001b[0m\u001b[0;34m)\u001b[0m\u001b[0;34m)\u001b[0m\u001b[0;34m\u001b[0m\u001b[0;34m\u001b[0m\u001b[0m\n",
            "\u001b[0;31mIndexError\u001b[0m: list index out of range"
          ]
        }
      ]
    },
    {
      "cell_type": "code",
      "source": [
        "# 구구단을 만들어 보자 2 * 1 ~ 9 * 9 = 81\n",
        "# 다중 for 문\n",
        "\n",
        "for i in range(2,10):               # 2단 ~ 9단\n",
        "    for j in range(1,10):           # 단마다 곱해지는 값 1~9\n",
        "        print(i * j, end = \" , \")   # 각 단마다 곱하고 출력\n",
        "                                    # print end 파라미터는 기본 엔터를 하지 않고 \" \" 로\n",
        "    print('')                       # 단이 끝나면 엔터 효과"
      ],
      "metadata": {
        "colab": {
          "base_uri": "https://localhost:8080/"
        },
        "id": "ku2Yx-aKMBMO",
        "outputId": "a9660896-12c6-4405-cf57-532ae0d4c577"
      },
      "execution_count": 16,
      "outputs": [
        {
          "output_type": "stream",
          "name": "stdout",
          "text": [
            "2 , 4 , 6 , 8 , 10 , 12 , 14 , 16 , 18 , \n",
            "3 , 6 , 9 , 12 , 15 , 18 , 21 , 24 , 27 , \n",
            "4 , 8 , 12 , 16 , 20 , 24 , 28 , 32 , 36 , \n",
            "5 , 10 , 15 , 20 , 25 , 30 , 35 , 40 , 45 , \n",
            "6 , 12 , 18 , 24 , 30 , 36 , 42 , 48 , 54 , \n",
            "7 , 14 , 21 , 28 , 35 , 42 , 49 , 56 , 63 , \n",
            "8 , 16 , 24 , 32 , 40 , 48 , 56 , 64 , 72 , \n",
            "9 , 18 , 27 , 36 , 45 , 54 , 63 , 72 , 81 , \n"
          ]
        }
      ]
    },
    {
      "cell_type": "code",
      "source": [
        "# 리스트 컴프리헨션 -> 결과를 리스트로 저장\n",
        "\n",
        "# 리스트 컴프리 헨션을 사용하지 않는 방법\n",
        "a = [1, 2, 3, 4]            # 입력 리스트 값\n",
        "result = []                 # 출력 리스트 값\n",
        "for num in a:               # 입력 리스트 값을 1개씩 가져화 num에 넣음\n",
        "    result.append(num*3)    # 출력 리스트 값에 3을 곱해 추가(.append)\n",
        "print(result)               # 반복 후에 출력"
      ],
      "metadata": {
        "colab": {
          "base_uri": "https://localhost:8080/"
        },
        "id": "-1HUFf0HNfXd",
        "outputId": "5ad40eb3-0355-49c1-c039-c55e49709bb7"
      },
      "execution_count": 19,
      "outputs": [
        {
          "output_type": "stream",
          "name": "stdout",
          "text": [
            "[3, 6, 9, 12]\n"
          ]
        }
      ]
    },
    {
      "cell_type": "code",
      "source": [
        "a = [1, 2, 3, 4]\n",
        "result = [num * 3 for num in a]     # 변수 = [실행문 for 변수 in 배열]리스트화\n",
        "print(result)"
      ],
      "metadata": {
        "colab": {
          "base_uri": "https://localhost:8080/"
        },
        "id": "kDVWVaFdObm0",
        "outputId": "80f917cf-6b56-4b82-9ddb-9849099f63ef"
      },
      "execution_count": 21,
      "outputs": [
        {
          "output_type": "stream",
          "name": "stdout",
          "text": [
            "[3, 6, 9, 12]\n"
          ]
        }
      ]
    },
    {
      "cell_type": "code",
      "source": [
        "# 짝수만 3을 곱해서 리스트에 담고 싶다.\n",
        "a = [1, 2, 3, 4]\n",
        "result = [num * 3 for num in a if num % 2 == 0]\n",
        "# 결과배열 = 실행문 for문      if 조건\n",
        "print(result)"
      ],
      "metadata": {
        "colab": {
          "base_uri": "https://localhost:8080/"
        },
        "id": "5kwFGoYTPXQ0",
        "outputId": "a63eb2bf-f0b0-46dd-ef44-cbf148a508c0"
      },
      "execution_count": 22,
      "outputs": [
        {
          "output_type": "stream",
          "name": "stdout",
          "text": [
            "[6, 12]\n"
          ]
        }
      ]
    },
    {
      "cell_type": "code",
      "source": [
        "# 미션 전에 만든 커피자판기를 리스트화 해서 for문으로 구현\n",
        "\n",
        "# 커피 종류가 5개 ( 커피명, 수량, 단가)\n",
        "# 사용자 커피를 반복 구매\n",
        "# 관리자가 판매종료 후 통계\n",
        "\n",
        "\n",
        "# continue는 while 문 처음으로 가는것\n",
        "# break는 while문을 탈출(뒤로가기)\n",
        "vending_machine = []  # 음료 데이터를 저장할 리스트\n",
        "total_sales = 0  # 총 판매 금액\n",
        "\n",
        "# 권한 선택\n",
        "while True:\n",
        "    print(\"\\n1. 관리자 | 2.손님 | 종료는 아무키\")\n",
        "    try:\n",
        "        a = int(input(\"권한 입력: \"))\n",
        "    except ValueError:\n",
        "        print(\"종료합니다.\")\n",
        "        break\n",
        "\n",
        "    # 관리자 모드\n",
        "    if a == 1:\n",
        "        while True:\n",
        "            print(\"\\n관리자 메뉴입니다.\")\n",
        "            print(\"1. 음료 등록 | 2. 등록된 메뉴 보기 | 3. 매출 확인 | 4. 뒤로 가기\")\n",
        "            try:\n",
        "                b = int(input(\"관리자 실행할 것은? \"))\n",
        "            except ValueError: # 메뉴 외에 다른 걸 누르면 continue로 위로 올라감\n",
        "                print(\"올바른 번호를 입력해주세요.\")\n",
        "                continue\n",
        "\n",
        "            # 음료 등록\n",
        "            if b == 1:\n",
        "                if len(vending_machine) >= 5:\n",
        "                    print(\"음료는 최대 5개까지만 등록 가능합니다.\")\n",
        "                    continue # 5개의 음료가 입력 되면 관리자 메뉴로 돌아감\n",
        "\n",
        "                print(\"\\n음료 등록 메뉴\")\n",
        "                while len(vending_machine) < 5:\n",
        "                    name = input(\"음료 이름을 입력하세요: \")\n",
        "\n",
        "                    # 가격 입력 및 숫자 확인\n",
        "                    while True:\n",
        "                        price_input = input(\"음료 가격을 입력하세요 (숫자): \")\n",
        "                        if price_input.isdigit():\n",
        "                            price = int(price_input)\n",
        "                            break\n",
        "                        else:\n",
        "                            print(\"가격은 숫자만 입력 가능합니다. 다시 입력해주세요.\")\n",
        "\n",
        "                    # 수량 입력 및 숫자 확인\n",
        "                    while True:\n",
        "                        quantity_input = input(\"판매 수량을 입력하세요 (숫자): \")\n",
        "                        if quantity_input.isdigit():\n",
        "                            quantity = int(quantity_input)\n",
        "                            break\n",
        "                        else:\n",
        "                            print(\"수량은 숫자만 입력 가능합니다. 다시 입력해주세요.\")\n",
        "\n",
        "                    # 음료 정보 저장\n",
        "                    vending_machine.append({\"name\": name, \"price\": price, \"quantity\": quantity})\n",
        "                    print(f\"{name} 등록 완료!\")\n",
        "                    if len(vending_machine) == 5:\n",
        "                        print(\"음료 등록이 완료되었습니다. 최대 5개까지만 등록 가능합니다.\")\n",
        "                        break\n",
        "\n",
        "            # 등록된 메뉴 보기\n",
        "            elif b == 2:\n",
        "                print(\"\\n등록된 메뉴:\")\n",
        "                if vending_machine:\n",
        "                    for drink in vending_machine:\n",
        "                        print(f\"- 이름: {drink['name']}, 가격: {drink['price']}원, 수량: {drink['quantity']}개\")\n",
        "                else:\n",
        "                    print(\"등록된 음료가 없습니다.\")\n",
        "\n",
        "            # 매출 확인\n",
        "            elif b == 3:\n",
        "                print(f\"총 매출: {total_sales}원\")\n",
        "\n",
        "            # 뒤로 가기\n",
        "            elif b == 4:\n",
        "                print(\"이전 메뉴로 돌아갑니다.\")\n",
        "                break\n",
        "\n",
        "            else:\n",
        "                print(\"올바른 번호를 입력해주세요.\")\n",
        "\n",
        "    # 손님 모드\n",
        "    elif a == 2:\n",
        "        print(\"\\n손님 메뉴입니다.\")\n",
        "        while True:\n",
        "            pick_name = input(\"\\n구매하실 음료의 이름을 적어주세요 (종료: '끝'): \")\n",
        "            if pick_name == \"끝\":\n",
        "                break\n",
        "\n",
        "            # 음료 찾기\n",
        "            selected_drink = next((drink for drink in vending_machine if drink[\"name\"] == pick_name), None)\n",
        "            if not selected_drink:\n",
        "                print(\"존재하지 않는 음료입니다. 다시 선택해주세요.\")\n",
        "                continue\n",
        "\n",
        "            # 수량 입력 및 확인\n",
        "            while True:\n",
        "                try:\n",
        "                    pick_amount = int(input(\"수량을 입력해 주세요: \"))\n",
        "                except ValueError:\n",
        "                    print(\"수량은 숫자로 입력해주세요.\")\n",
        "                    continue\n",
        "\n",
        "                if pick_amount > selected_drink[\"quantity\"]:\n",
        "                    print(f\"죄송합니다. 재고가 부족합니다. 남은 수량: {selected_drink['quantity']}개\")\n",
        "                else:\n",
        "                    break\n",
        "\n",
        "            # 금액 입력 및 잔돈 계산\n",
        "            total_price = selected_drink[\"price\"] * pick_amount\n",
        "            print(f\"총 금액은 {total_price}원입니다.\")\n",
        "            while True:\n",
        "                try:\n",
        "                    paid = int(input(\"지불할 금액을 입력해주세요: \"))\n",
        "                except ValueError:\n",
        "                    print(\"금액은 숫자로 입력해주세요.\")\n",
        "                    continue\n",
        "\n",
        "                if paid < total_price:\n",
        "                    print(f\"금액이 부족합니다. {total_price - paid}원을 더 지불해주세요.\")\n",
        "                else:\n",
        "                    change = paid - total_price\n",
        "                    print(f\"거스름돈: {change}원\")\n",
        "                    break\n",
        "\n",
        "            # 재고 차감 및 총 판매 금액 계산\n",
        "            selected_drink[\"quantity\"] -= pick_amount\n",
        "            total_sales += total_price\n",
        "            print(f\"{pick_amount}개의 {selected_drink['name']}을 구매하셨습니다. 남은 수량: {selected_drink['quantity']}개\")\n",
        "\n",
        "    # 종료\n",
        "    else:\n",
        "        print(\"종료합니다.\")\n",
        "        break\n"
      ],
      "metadata": {
        "colab": {
          "base_uri": "https://localhost:8080/"
        },
        "id": "C-iwDzN3Qjrs",
        "outputId": "87dd45aa-c73d-4b20-f38e-1d3f3dc3773a"
      },
      "execution_count": 39,
      "outputs": [
        {
          "output_type": "stream",
          "name": "stdout",
          "text": [
            "\n",
            "1. 관리자 | 2.손님 | 종료는 아무키\n",
            "권한 입력: 1\n",
            "\n",
            "관리자 메뉴입니다.\n",
            "1. 음료 등록 | 2. 등록된 메뉴 보기 | 3. 매출 확인 | 4. 뒤로 가기\n",
            "관리자 실행할 것은? 1\n",
            "\n",
            "음료 등록 메뉴\n",
            "음료 이름을 입력하세요: 콜라\n",
            "음료 가격을 입력하세요 (숫자): 500\n",
            "판매 수량을 입력하세요 (숫자): 3\n",
            "콜라 등록 완료!\n",
            "음료 이름을 입력하세요: 사이다\n",
            "음료 가격을 입력하세요 (숫자): 500\n",
            "판매 수량을 입력하세요 (숫자): 5\n",
            "사이다 등록 완료!\n",
            "음료 이름을 입력하세요: 제콜라\n",
            "음료 가격을 입력하세요 (숫자): 600\n",
            "판매 수량을 입력하세요 (숫자): 3\n",
            "제콜라 등록 완료!\n",
            "음료 이름을 입력하세요: 제로사이다\n",
            "음료 가격을 입력하세요 (숫자): 600\n",
            "판매 수량을 입력하세요 (숫자): 7\n",
            "제로사이다 등록 완료!\n",
            "음료 이름을 입력하세요: 환타\n",
            "음료 가격을 입력하세요 (숫자): 500\n",
            "판매 수량을 입력하세요 (숫자): 60\n",
            "환타 등록 완료!\n",
            "음료 등록이 완료되었습니다. 최대 5개까지만 등록 가능합니다.\n",
            "\n",
            "관리자 메뉴입니다.\n",
            "1. 음료 등록 | 2. 등록된 메뉴 보기 | 3. 매출 확인 | 4. 뒤로 가기\n",
            "관리자 실행할 것은? 3\n",
            "총 매출: 0원\n",
            "\n",
            "관리자 메뉴입니다.\n",
            "1. 음료 등록 | 2. 등록된 메뉴 보기 | 3. 매출 확인 | 4. 뒤로 가기\n",
            "관리자 실행할 것은? 2\n",
            "\n",
            "등록된 메뉴:\n",
            "- 이름: 콜라, 가격: 500원, 수량: 3개\n",
            "- 이름: 사이다, 가격: 500원, 수량: 5개\n",
            "- 이름: 제콜라, 가격: 600원, 수량: 3개\n",
            "- 이름: 제로사이다, 가격: 600원, 수량: 7개\n",
            "- 이름: 환타, 가격: 500원, 수량: 60개\n",
            "\n",
            "관리자 메뉴입니다.\n",
            "1. 음료 등록 | 2. 등록된 메뉴 보기 | 3. 매출 확인 | 4. 뒤로 가기\n",
            "관리자 실행할 것은? 4\n",
            "이전 메뉴로 돌아갑니다.\n",
            "\n",
            "1. 관리자 | 2.손님 | 종료는 아무키\n",
            "권한 입력: 2\n",
            "\n",
            "손님 메뉴입니다.\n",
            "\n",
            "구매하실 음료의 이름을 적어주세요 (종료: '끝'): 콜라\n",
            "수량을 입력해 주세요: 2\n",
            "총 금액은 1000원입니다.\n",
            "지불할 금액을 입력해주세요: 1500\n",
            "거스름돈: 500원\n",
            "2개의 콜라을 구매하셨습니다. 남은 수량: 1개\n",
            "\n",
            "구매하실 음료의 이름을 적어주세요 (종료: '끝'): 사이다\n",
            "수량을 입력해 주세요: 2\n",
            "총 금액은 1000원입니다.\n",
            "지불할 금액을 입력해주세요: 20\n",
            "금액이 부족합니다. 980원을 더 지불해주세요.\n",
            "지불할 금액을 입력해주세요: 980\n",
            "금액이 부족합니다. 20원을 더 지불해주세요.\n",
            "지불할 금액을 입력해주세요: 1000\n",
            "거스름돈: 0원\n",
            "2개의 사이다을 구매하셨습니다. 남은 수량: 3개\n",
            "\n",
            "구매하실 음료의 이름을 적어주세요 (종료: '끝'): 끝\n",
            "\n",
            "1. 관리자 | 2.손님 | 종료는 아무키\n",
            "권한 입력: 1\n",
            "\n",
            "관리자 메뉴입니다.\n",
            "1. 음료 등록 | 2. 등록된 메뉴 보기 | 3. 매출 확인 | 4. 뒤로 가기\n",
            "관리자 실행할 것은? 3\n",
            "총 매출: 2000원\n",
            "\n",
            "관리자 메뉴입니다.\n",
            "1. 음료 등록 | 2. 등록된 메뉴 보기 | 3. 매출 확인 | 4. 뒤로 가기\n",
            "관리자 실행할 것은? 4\n",
            "이전 메뉴로 돌아갑니다.\n",
            "\n",
            "1. 관리자 | 2.손님 | 종료는 아무키\n",
            "권한 입력: exit\n",
            "종료합니다.\n"
          ]
        }
      ]
    },
    {
      "cell_type": "code",
      "source": [
        "a = 8\n",
        "for i in range(a):\n",
        "    print('*' * (i+1))"
      ],
      "metadata": {
        "colab": {
          "base_uri": "https://localhost:8080/"
        },
        "id": "HUVsSVNUqbln",
        "outputId": "d0e9345d-970b-4c65-cb39-9ce64657d4e1"
      },
      "execution_count": 51,
      "outputs": [
        {
          "output_type": "stream",
          "name": "stdout",
          "text": [
            "*\n",
            "**\n",
            "***\n",
            "****\n",
            "*****\n",
            "******\n",
            "*******\n",
            "********\n"
          ]
        }
      ]
    },
    {
      "cell_type": "code",
      "source": [
        "a = 8\n",
        "for i in range(a) :\n",
        "    print(' ' * (a-i)+('*'*(i+1)))"
      ],
      "metadata": {
        "colab": {
          "base_uri": "https://localhost:8080/"
        },
        "id": "JEJCLs2CpQiH",
        "outputId": "89d8d0e4-cd22-4dcb-9ff4-3e501df618c4"
      },
      "execution_count": 49,
      "outputs": [
        {
          "output_type": "stream",
          "name": "stdout",
          "text": [
            "        *\n",
            "       **\n",
            "      ***\n",
            "     ****\n",
            "    *****\n",
            "   ******\n",
            "  *******\n",
            " ********\n"
          ]
        }
      ]
    },
    {
      "cell_type": "code",
      "source": [
        "a = range(16)\n",
        "for b in a :\n",
        "    if b % 2 == 1:\n",
        "        print(('*'*b).center(15))"
      ],
      "metadata": {
        "colab": {
          "base_uri": "https://localhost:8080/"
        },
        "id": "-p_bjCIqqgz-",
        "outputId": "765159e6-a9c7-41dc-aa44-3e5eb3530cb0"
      },
      "execution_count": 65,
      "outputs": [
        {
          "output_type": "stream",
          "name": "stdout",
          "text": [
            "       *       \n",
            "      ***      \n",
            "     *****     \n",
            "    *******    \n",
            "   *********   \n",
            "  ***********  \n",
            " ************* \n",
            "***************\n"
          ]
        }
      ]
    },
    {
      "cell_type": "code",
      "source": [],
      "metadata": {
        "id": "v-4Hred5tghe"
      },
      "execution_count": null,
      "outputs": []
    }
  ]
}