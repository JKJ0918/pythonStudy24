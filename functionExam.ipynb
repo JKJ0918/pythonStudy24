{
  "nbformat": 4,
  "nbformat_minor": 0,
  "metadata": {
    "colab": {
      "provenance": [],
      "authorship_tag": "ABX9TyPnSUUiqr4TmghfDGf4Xbi2",
      "include_colab_link": true
    },
    "kernelspec": {
      "name": "python3",
      "display_name": "Python 3"
    },
    "language_info": {
      "name": "python"
    }
  },
  "cells": [
    {
      "cell_type": "markdown",
      "metadata": {
        "id": "view-in-github",
        "colab_type": "text"
      },
      "source": [
        "<a href=\"https://colab.research.google.com/github/JKJ0918/pythonStudy24/blob/master/functionExam.ipynb\" target=\"_parent\"><img src=\"https://colab.research.google.com/assets/colab-badge.svg\" alt=\"Open In Colab\"/></a>"
      ]
    },
    {
      "cell_type": "markdown",
      "source": [
        "함수(function)\n",
        "\n",
        "함수는 단일 동작을 수행하는 블럭을 말한다.\n",
        "자바에서는 {} 블럭 단위로 수행하는데 파이썬은 인터프리터로 줄단위 수행\n",
        "\n",
        "프로그램의 메모리 영역은\n",
        "크게 3가지로 나눠짐\n",
        "\n",
        "스택 영역   : 변수에 기본타입이나 참조타입을 연결\n",
        "\n",
        "힙영역      : 객체를 생성해서 주소를 가지고 있음\n",
        "\n",
        "메서드 영역 : 동작들을 보관하고 있다가 호출되면 매개값(파라미터)과 처리후\n",
        "\n",
        "리턴을 제공 (함수나, 메서드를 보관)\n",
        "\n",
        "함수를 사용하는 이유\n",
        ": 반복적인 코드 발생을 최소화 하기 위해서 (CRUD)\n"
      ],
      "metadata": {
        "id": "sB83HQLH8Qs9"
      }
    },
    {
      "cell_type": "code",
      "execution_count": 9,
      "metadata": {
        "colab": {
          "base_uri": "https://localhost:8080/"
        },
        "id": "J82wKruP8IeH",
        "outputId": "0e0f8cc2-06e2-4fb6-ce71-4d409b1e676e"
      },
      "outputs": [
        {
          "output_type": "stream",
          "name": "stdout",
          "text": [
            "add()메서드 종료\n",
            "add()메서드 종료\n",
            "워싱턴\n"
          ]
        }
      ],
      "source": [
        "# 파이썬 함수의 구조\n",
        "\n",
        "# def (define : 정의) 함수 생성\n",
        "# def 함수이름(매개변수) :\n",
        "#     실행문1\n",
        "#     실행문2\n",
        "#     ...\n",
        "\n",
        "def add(a, b):                  # add라는 함수를 정의(생성), 매개값은 2개를 받음\n",
        "    print(\"add()메서드 종료\")\n",
        "    return a+b                # 매개값으로 받은 2개의 변수를 더해 리턴\n",
        "    # add() 종료\n",
        "\n",
        "add(\"조\",\"바이든\")\n",
        "print(add(\"워\",\"싱턴\"))\n",
        "\n",
        "\n"
      ]
    },
    {
      "cell_type": "code",
      "source": [
        "# *args : 매개값이 몇개인지 모를때 (1 이상 ~ )\n",
        "\n",
        "def add_many(*args) :   # *args 매개값이 1개 이상\n",
        "    result = 0          # 결과를 저장하는 변수\n",
        "    for i in args:      # *args는 리스트로 저장이 됨\n",
        "        result += i     # result = result + i\n",
        "    return result       # 결과 리턴\n",
        "\n",
        "print (add_many(1,2,3,4,5,6,7,8,9)) # 파이썬은 인터프리터라서 호출은 매서드 선언후사용\n",
        "# args는 관례임(프로그래머들끼리의 약속)\n"
      ],
      "metadata": {
        "colab": {
          "base_uri": "https://localhost:8080/"
        },
        "id": "sL7lY3skKIqW",
        "outputId": "4588dbae-ad23-4757-a155-0a24457c0cd0"
      },
      "execution_count": 11,
      "outputs": [
        {
          "output_type": "stream",
          "name": "stdout",
          "text": [
            "45\n"
          ]
        }
      ]
    },
    {
      "cell_type": "code",
      "source": [
        "test = add_many(9,8,7,6)\n",
        "print(test)"
      ],
      "metadata": {
        "colab": {
          "base_uri": "https://localhost:8080/"
        },
        "id": "5mL532yNLevO",
        "outputId": "b38eef95-c0f4-46b8-ef90-97b8e8c3ead7"
      },
      "execution_count": 16,
      "outputs": [
        {
          "output_type": "stream",
          "name": "stdout",
          "text": [
            "30\n"
          ]
        }
      ]
    },
    {
      "cell_type": "code",
      "source": [
        "def add_mul(choice, *args) :\n",
        "    if choice == \"add\" :\n",
        "        result = 0\n",
        "        for i in args :\n",
        "            result += i\n",
        "    elif choice == \"mul\" :\n",
        "        result = 1\n",
        "        for i in args :\n",
        "                result *= i\n",
        "    return result"
      ],
      "metadata": {
        "id": "vrv9gjgRMAAW"
      },
      "execution_count": 18,
      "outputs": []
    },
    {
      "cell_type": "code",
      "source": [
        "result = add_mul(\"add\", 1,2,3,4,5)\n",
        "print(result)"
      ],
      "metadata": {
        "colab": {
          "base_uri": "https://localhost:8080/"
        },
        "id": "DKmNL3rJNCj7",
        "outputId": "fd7fbeff-ad42-4988-f5a7-f2b9ee0fb5a3"
      },
      "execution_count": 19,
      "outputs": [
        {
          "output_type": "stream",
          "name": "stdout",
          "text": [
            "15\n"
          ]
        }
      ]
    },
    {
      "cell_type": "code",
      "source": [
        "result = add_mul(\"mul\", 3,4,5)\n",
        "print(result)"
      ],
      "metadata": {
        "colab": {
          "base_uri": "https://localhost:8080/"
        },
        "id": "qOk_qbfHNQfc",
        "outputId": "42e08996-2a6a-4c40-a1f3-346f9ec03ab9"
      },
      "execution_count": 20,
      "outputs": [
        {
          "output_type": "stream",
          "name": "stdout",
          "text": [
            "60\n"
          ]
        }
      ]
    },
    {
      "cell_type": "code",
      "source": [
        "result = add_mul(\"add\", \"세\", \"종\", \"대\", \"왕\")"
      ],
      "metadata": {
        "colab": {
          "base_uri": "https://localhost:8080/",
          "height": 274
        },
        "id": "RmBQGywbOZzM",
        "outputId": "7f7d8bcd-f5b9-42a6-cdf7-1b4a6f50b456"
      },
      "execution_count": 21,
      "outputs": [
        {
          "output_type": "error",
          "ename": "TypeError",
          "evalue": "unsupported operand type(s) for +=: 'int' and 'str'",
          "traceback": [
            "\u001b[0;31m---------------------------------------------------------------------------\u001b[0m",
            "\u001b[0;31mTypeError\u001b[0m                                 Traceback (most recent call last)",
            "\u001b[0;32m<ipython-input-21-a62fb0ff19d8>\u001b[0m in \u001b[0;36m<cell line: 1>\u001b[0;34m()\u001b[0m\n\u001b[0;32m----> 1\u001b[0;31m \u001b[0mresult\u001b[0m \u001b[0;34m=\u001b[0m \u001b[0madd_mul\u001b[0m\u001b[0;34m(\u001b[0m\u001b[0;34m\"add\"\u001b[0m\u001b[0;34m,\u001b[0m \u001b[0;34m\"세\"\u001b[0m\u001b[0;34m,\u001b[0m \u001b[0;34m\"종\"\u001b[0m\u001b[0;34m,\u001b[0m \u001b[0;34m\"대\"\u001b[0m\u001b[0;34m,\u001b[0m \u001b[0;34m\"왕\"\u001b[0m\u001b[0;34m)\u001b[0m\u001b[0;34m\u001b[0m\u001b[0;34m\u001b[0m\u001b[0m\n\u001b[0m",
            "\u001b[0;32m<ipython-input-18-0c702f6e1d0e>\u001b[0m in \u001b[0;36madd_mul\u001b[0;34m(choice, *args)\u001b[0m\n\u001b[1;32m      3\u001b[0m         \u001b[0mresult\u001b[0m \u001b[0;34m=\u001b[0m \u001b[0;36m0\u001b[0m\u001b[0;34m\u001b[0m\u001b[0;34m\u001b[0m\u001b[0m\n\u001b[1;32m      4\u001b[0m         \u001b[0;32mfor\u001b[0m \u001b[0mi\u001b[0m \u001b[0;32min\u001b[0m \u001b[0margs\u001b[0m \u001b[0;34m:\u001b[0m\u001b[0;34m\u001b[0m\u001b[0;34m\u001b[0m\u001b[0m\n\u001b[0;32m----> 5\u001b[0;31m             \u001b[0mresult\u001b[0m \u001b[0;34m+=\u001b[0m \u001b[0mi\u001b[0m\u001b[0;34m\u001b[0m\u001b[0;34m\u001b[0m\u001b[0m\n\u001b[0m\u001b[1;32m      6\u001b[0m     \u001b[0;32melif\u001b[0m \u001b[0mchoice\u001b[0m \u001b[0;34m==\u001b[0m \u001b[0;34m\"mul\"\u001b[0m \u001b[0;34m:\u001b[0m\u001b[0;34m\u001b[0m\u001b[0;34m\u001b[0m\u001b[0m\n\u001b[1;32m      7\u001b[0m         \u001b[0mresult\u001b[0m \u001b[0;34m=\u001b[0m \u001b[0;36m1\u001b[0m\u001b[0;34m\u001b[0m\u001b[0;34m\u001b[0m\u001b[0m\n",
            "\u001b[0;31mTypeError\u001b[0m: unsupported operand type(s) for +=: 'int' and 'str'"
          ]
        }
      ]
    },
    {
      "cell_type": "code",
      "source": [
        "# **kwargs : 키워드 매개변수 (딕셔너리)\n",
        "\n",
        "def print_kwargs(**kwargs) :\n",
        "    print(kwargs)\n",
        "\n",
        "print_kwargs(kkw=312)\n",
        "#            key=value\n"
      ],
      "metadata": {
        "colab": {
          "base_uri": "https://localhost:8080/"
        },
        "id": "e3L86mnHOxrL",
        "outputId": "fe34cd85-6094-4713-b256-1177e8f6c40e"
      },
      "execution_count": 22,
      "outputs": [
        {
          "output_type": "stream",
          "name": "stdout",
          "text": [
            "{'kkw': 312}\n"
          ]
        }
      ]
    },
    {
      "cell_type": "code",
      "source": [
        "print_kwargs(id=\"aab\", pw=\"P@ssw0rd\", phone=1545, email=\"aab@naver.com\")"
      ],
      "metadata": {
        "colab": {
          "base_uri": "https://localhost:8080/"
        },
        "id": "vLlzAmIoPbLi",
        "outputId": "010c520a-cda1-4d13-89a2-670cb47e29c2"
      },
      "execution_count": 25,
      "outputs": [
        {
          "output_type": "stream",
          "name": "stdout",
          "text": [
            "{'id': 'aab', 'pw': 'P@ssw0rd', 'phone': 1545, 'email': 'aab@naver.com'}\n"
          ]
        }
      ]
    },
    {
      "cell_type": "code",
      "source": [
        "# 만약 리턴값이 2개????\n",
        "\n",
        "def add_and_mul(a,b) :\n",
        "    return a+b, a*b, a-b\n",
        "a, b, c = add_and_mul(3,4)\n",
        "print(a)\n",
        "print(b)\n",
        "print(c)"
      ],
      "metadata": {
        "colab": {
          "base_uri": "https://localhost:8080/"
        },
        "id": "IYdzOfs6QTXB",
        "outputId": "b719e906-529f-4187-8216-1bd08be0dcc7"
      },
      "execution_count": 28,
      "outputs": [
        {
          "output_type": "stream",
          "name": "stdout",
          "text": [
            "7\n",
            "12\n",
            "-1\n"
          ]
        }
      ]
    },
    {
      "cell_type": "code",
      "source": [
        "def say_myself(name, old, man=True) :\n",
        "    print(\"나의 이름은 %s 입니다.\" % name)\n",
        "    print(\"나의 나이는 %d 입니다.\" % old)\n",
        "    if man:\n",
        "        print(\"남자 입니다.\")\n",
        "    else :\n",
        "        print(\"여자 입니다.\")\n",
        "\n",
        "say_myself(\"홍길동\", 31)"
      ],
      "metadata": {
        "colab": {
          "base_uri": "https://localhost:8080/"
        },
        "id": "nDkeSlYrRMoR",
        "outputId": "7d2aa4a9-41df-4f3e-e3e9-fcf8b9e44a06"
      },
      "execution_count": 33,
      "outputs": [
        {
          "output_type": "stream",
          "name": "stdout",
          "text": [
            "나의 이름은 홍길동 입니다.\n",
            "나의 나이는 31 입니다.\n",
            "남자 입니다.\n"
          ]
        }
      ]
    },
    {
      "cell_type": "code",
      "source": [
        "say_myself(\"박응용\", 27, False)"
      ],
      "metadata": {
        "colab": {
          "base_uri": "https://localhost:8080/"
        },
        "id": "dfTPCXHcSiHS",
        "outputId": "4ef672b2-1b16-4d5f-85cb-46a7ff1c62cf"
      },
      "execution_count": 34,
      "outputs": [
        {
          "output_type": "stream",
          "name": "stdout",
          "text": [
            "나의 이름은 박응용 입니다.\n",
            "나의 나이는 27 입니다.\n",
            "여자 입니다.\n"
          ]
        }
      ]
    },
    {
      "cell_type": "code",
      "source": [
        "# 람다식 : 인터페이스형태의 실행문이 1개인 코드\n",
        "# 자바에서 람다식은 '->' 사용하고 자바스크립트 '=>'\n",
        "# 파이썬의 람다식은\n",
        "# 변수(함수명) = lambda 매개변수 : 실행문\n",
        "add = lambda a,b : a+b\n",
        "result = add(3,4)\n",
        "print(result)"
      ],
      "metadata": {
        "id": "b37b3qsNTIbJ"
      },
      "execution_count": null,
      "outputs": []
    },
    {
      "cell_type": "code",
      "source": [
        "# 미션\n",
        "# 자판기 코드를 함수로 리빌드 진행 시작\n",
        "\n",
        "# continue는 while 문 처음으로 가는것\n",
        "# break는 while문을 탈출(뒤로가기)\n",
        "vending_machine = []  # 음료 데이터를 저장할 리스트\n",
        "total_sales = 0  # 총 판매 금액\n",
        "\n",
        "# 음료 등록 매소드\n",
        "def create_drink():\n",
        "    if len(vending_machine) >= 5:\n",
        "        print(\"음료는 최대 5개까지만 등록 가능합니다.\")\n",
        "        return # 5개의 음료가 입력 되면 관리자 메뉴로 돌아감\n",
        "\n",
        "    print(\"\\n음료 등록 메뉴\")\n",
        "    while len(vending_machine) < 5:\n",
        "        name = input(\"음료 이름을 입력하세요: \")\n",
        "\n",
        "        # 가격 입력 및 숫자 확인\n",
        "        while True:\n",
        "            price_input = input(\"음료 가격을 입력하세요 (숫자): \")\n",
        "            if price_input.isdigit():\n",
        "                price = int(price_input)\n",
        "                break\n",
        "            else:\n",
        "                print(\"가격은 숫자만 입력 가능합니다. 다시 입력해주세요.\")\n",
        "\n",
        "        # 수량 입력 및 숫자 확인\n",
        "        while True:\n",
        "            quantity_input = input(\"판매 수량을 입력하세요 (숫자): \")\n",
        "            if quantity_input.isdigit():\n",
        "                quantity = int(quantity_input)\n",
        "                break\n",
        "            else:\n",
        "                print(\"수량은 숫자만 입력 가능합니다. 다시 입력해주세요.\")\n",
        "\n",
        "        # 음료 정보 저장\n",
        "        vending_machine.append({\"name\": name, \"price\": price, \"quantity\": quantity})\n",
        "        print(f\"{name} 등록 완료!\")\n",
        "        if len(vending_machine) == 5:\n",
        "            print(\"음료 등록이 완료되었습니다. 최대 5개까지만 등록 가능합니다.\")\n",
        "            break\n",
        "\n",
        "# 등록된 음료 보기 매소드\n",
        "def read_drink() :\n",
        "    print(\"\\n등록된 메뉴:\")\n",
        "    if vending_machine:\n",
        "        for drink in vending_machine:\n",
        "            print(f\"- 이름: {drink['name']}, 가격: {drink['price']}원, 수량: {drink['quantity']}개\")\n",
        "    else:\n",
        "        print(\"등록된 음료가 없습니다.\")\n",
        "\n",
        "# 등록된 음료 찾기 매소드\n",
        "def find_drink(pick_name):\n",
        "    selected_drink = next((drink for drink in vending_machine if drink[\"name\"] == pick_name), None)\n",
        "    if not selected_drink:\n",
        "        print(\"존재하지 않는 음료입니다. 다시 선택해주세요.\")\n",
        "    return selected_drink\n",
        "\n",
        "# 음료수 수량 입력 매소드\n",
        "def quantity_drink(selected_drink) :  # 수량 입력 및 확인\n",
        "    while True:\n",
        "        try:\n",
        "            pick_amount = int(input(\"수량을 입력해 주세요: \"))\n",
        "        except ValueError:\n",
        "            print(\"수량은 숫자로 입력해주세요.\")\n",
        "            continue\n",
        "\n",
        "        if pick_amount > selected_drink[\"quantity\"]:\n",
        "            print(f\"죄송합니다. 재고가 부족합니다. 남은 수량: {selected_drink['quantity']}개\")\n",
        "        else:\n",
        "            return pick_amount # 선택한 수량 반환\n",
        "\n",
        "# 금액 입력 및 잔돈 계산\n",
        "def input_check_drink(selected_drink, pick_amount) : # 금액 입력 및 잔돈 계산\n",
        "    total_price = selected_drink[\"price\"] * pick_amount\n",
        "    print(f\"총 금액은 {total_price}원입니다.\")\n",
        "    while True:\n",
        "        try:\n",
        "            paid = int(input(\"지불할 금액을 입력해주세요: \"))\n",
        "        except ValueError:\n",
        "            print(\"금액은 숫자로 입력해주세요.\")\n",
        "            continue\n",
        "\n",
        "        if paid < total_price:\n",
        "            print(f\"금액이 부족합니다. {total_price - paid}원을 더 지불해주세요.\")\n",
        "        else:\n",
        "            change = paid - total_price\n",
        "            print(f\"거스름돈: {change}원\")\n",
        "            return total_price # 결제 금액 반환\n",
        "\n",
        "# 재고 차감 및 총 판매 금액 계산 매소드\n",
        "def final_check_drink(selected_drink, pick_amount, total_price):  # 매개변수 추가\n",
        "    global total_sales  # 전역 변수 수정\n",
        "    selected_drink[\"quantity\"] -= pick_amount\n",
        "    total_sales += total_price\n",
        "    print(f\"{pick_amount}개의 {selected_drink['name']}을 구매하셨습니다. 남은 수량: {selected_drink['quantity']}개\")\n",
        "\n",
        "############################# ##############################\n",
        "# 권한 선택\n",
        "while True:\n",
        "    print(\"\\n1. 관리자 | 2.손님 | 종료는 아무키\")\n",
        "    try:\n",
        "        a = int(input(\"권한 입력: \"))\n",
        "    except ValueError:\n",
        "        print(\"종료합니다.\")\n",
        "        break\n",
        "\n",
        "    # 관리자 모드\n",
        "    if a == 1:\n",
        "        while True:\n",
        "            print(\"\\n관리자 메뉴입니다.\")\n",
        "            print(\"1. 음료 등록 | 2. 등록된 메뉴 보기 | 3. 매출 확인 | 4. 뒤로 가기\")\n",
        "            try:\n",
        "                b = int(input(\"관리자 실행할 것은? \"))\n",
        "            except ValueError: # 메뉴 외에 다른 걸 누르면 continue로 위로 올라감\n",
        "                print(\"올바른 번호를 입력해주세요.\")\n",
        "                continue\n",
        "\n",
        "            if b == 1 : create_drink() # 음료 등록\n",
        "\n",
        "            elif b == 2 : read_drink()  # 등록된 메뉴 보기\n",
        "\n",
        "            elif b == 3 :\n",
        "                print(f\"총 매출: {total_sales}원\") # 매출 확인\n",
        "            elif b == 4 :\n",
        "                print(\"이전 메뉴로 돌아갑니다.\")\n",
        "                break  # 뒤로 가기\n",
        "\n",
        "            else: print(\"올바른 번호를 입력해주세요.\")\n",
        "\n",
        "    # 손님 모드\n",
        "    elif a == 2:\n",
        "        print(\"\\n손님 메뉴입니다.\")\n",
        "        while True:\n",
        "            pick_name = input(\"\\n구매하실 음료의 이름을 적어주세요 (종료: '끝'): \")\n",
        "            if pick_name == \"끝\":\n",
        "                break\n",
        "\n",
        "            selected_drink = find_drink(pick_name) # 음료 찾기 *find_drink 메서드 호출 및 반환값 저장\n",
        "\n",
        "            if not selected_drink:  # 음료가 없는 경우 다시 루프 실행\n",
        "                continue\n",
        "\n",
        "            pick_amount = quantity_drink(selected_drink) # 수량 입력 및 확인\n",
        "\n",
        "            total_price = input_check_drink(selected_drink, pick_amount) # 금액 입력 및 잔돈 계산\n",
        "\n",
        "            final_check_drink(selected_drink, pick_amount, total_price) # 재고 차감 및 총 판매 금액 계산\n",
        "    # 종료\n",
        "    else:\n",
        "        print(\"종료합니다.\")\n",
        "        break"
      ],
      "metadata": {
        "colab": {
          "base_uri": "https://localhost:8080/",
          "height": 1000
        },
        "id": "LCySnzSJT89g",
        "outputId": "2e400a79-4dce-4266-8645-766bd74b5fb2"
      },
      "execution_count": 77,
      "outputs": [
        {
          "output_type": "stream",
          "name": "stdout",
          "text": [
            "\n",
            "1. 관리자 | 2.손님 | 종료는 아무키\n",
            "권한 입력: 1\n",
            "\n",
            "관리자 메뉴입니다.\n",
            "1. 음료 등록 | 2. 등록된 메뉴 보기 | 3. 매출 확인 | 4. 뒤로 가기\n",
            "관리자 실행할 것은? 1\n",
            "\n",
            "음료 등록 메뉴\n",
            "음료 이름을 입력하세요: 콜라\n",
            "음료 가격을 입력하세요 (숫자): 500\n",
            "판매 수량을 입력하세요 (숫자): 10\n",
            "콜라 등록 완료!\n",
            "음료 이름을 입력하세요: 사이다\n",
            "음료 가격을 입력하세요 (숫자): 550\n",
            "판매 수량을 입력하세요 (숫자): 12\n",
            "사이다 등록 완료!\n",
            "음료 이름을 입력하세요: 우유\n",
            "음료 가격을 입력하세요 (숫자): 400\n",
            "판매 수량을 입력하세요 (숫자): 10\n",
            "우유 등록 완료!\n",
            "음료 이름을 입력하세요: 웰치스\n",
            "음료 가격을 입력하세요 (숫자): 800\n",
            "판매 수량을 입력하세요 (숫자): 15\n",
            "웰치스 등록 완료!\n",
            "음료 이름을 입력하세요: 사과주스\n",
            "음료 가격을 입력하세요 (숫자): 800\n",
            "판매 수량을 입력하세요 (숫자): 12\n",
            "사과주스 등록 완료!\n",
            "음료 등록이 완료되었습니다. 최대 5개까지만 등록 가능합니다.\n",
            "\n",
            "관리자 메뉴입니다.\n",
            "1. 음료 등록 | 2. 등록된 메뉴 보기 | 3. 매출 확인 | 4. 뒤로 가기\n",
            "관리자 실행할 것은? 3\n",
            "총 매출: 0원\n",
            "\n",
            "관리자 메뉴입니다.\n",
            "1. 음료 등록 | 2. 등록된 메뉴 보기 | 3. 매출 확인 | 4. 뒤로 가기\n",
            "관리자 실행할 것은? 2\n",
            "\n",
            "등록된 메뉴:\n",
            "- 이름: 콜라, 가격: 500원, 수량: 10개\n",
            "- 이름: 사이다, 가격: 550원, 수량: 12개\n",
            "- 이름: 우유, 가격: 400원, 수량: 10개\n",
            "- 이름: 웰치스, 가격: 800원, 수량: 15개\n",
            "- 이름: 사과주스, 가격: 800원, 수량: 12개\n",
            "\n",
            "관리자 메뉴입니다.\n",
            "1. 음료 등록 | 2. 등록된 메뉴 보기 | 3. 매출 확인 | 4. 뒤로 가기\n",
            "관리자 실행할 것은? 4\n",
            "이전 메뉴로 돌아갑니다.\n",
            "\n",
            "1. 관리자 | 2.손님 | 종료는 아무키\n",
            "권한 입력: 2\n",
            "\n",
            "손님 메뉴입니다.\n",
            "\n",
            "구매하실 음료의 이름을 적어주세요 (종료: '끝'): 사과주스\n",
            "수량을 입력해 주세요: 12\n",
            "총 금액은 9600원입니다.\n",
            "지불할 금액을 입력해주세요: 5500\n",
            "금액이 부족합니다. 4100원을 더 지불해주세요.\n",
            "지불할 금액을 입력해주세요: 9600\n",
            "거스름돈: 0원\n",
            "12개의 사과주스을 구매하셨습니다. 남은 수량: 0개\n",
            "\n",
            "구매하실 음료의 이름을 적어주세요 (종료: '끝'): 끝\n",
            "\n",
            "1. 관리자 | 2.손님 | 종료는 아무키\n",
            "권한 입력: 1\n",
            "\n",
            "관리자 메뉴입니다.\n",
            "1. 음료 등록 | 2. 등록된 메뉴 보기 | 3. 매출 확인 | 4. 뒤로 가기\n",
            "관리자 실행할 것은? 3\n",
            "총 매출: 9600원\n",
            "\n",
            "관리자 메뉴입니다.\n",
            "1. 음료 등록 | 2. 등록된 메뉴 보기 | 3. 매출 확인 | 4. 뒤로 가기\n"
          ]
        },
        {
          "output_type": "error",
          "ename": "KeyboardInterrupt",
          "evalue": "Interrupted by user",
          "traceback": [
            "\u001b[0;31m---------------------------------------------------------------------------\u001b[0m",
            "\u001b[0;31mKeyboardInterrupt\u001b[0m                         Traceback (most recent call last)",
            "\u001b[0;32m<ipython-input-77-d6a8af3ee0eb>\u001b[0m in \u001b[0;36m<cell line: 101>\u001b[0;34m()\u001b[0m\n\u001b[1;32m    113\u001b[0m             \u001b[0mprint\u001b[0m\u001b[0;34m(\u001b[0m\u001b[0;34m\"1. 음료 등록 | 2. 등록된 메뉴 보기 | 3. 매출 확인 | 4. 뒤로 가기\"\u001b[0m\u001b[0;34m)\u001b[0m\u001b[0;34m\u001b[0m\u001b[0;34m\u001b[0m\u001b[0m\n\u001b[1;32m    114\u001b[0m             \u001b[0;32mtry\u001b[0m\u001b[0;34m:\u001b[0m\u001b[0;34m\u001b[0m\u001b[0;34m\u001b[0m\u001b[0m\n\u001b[0;32m--> 115\u001b[0;31m                 \u001b[0mb\u001b[0m \u001b[0;34m=\u001b[0m \u001b[0mint\u001b[0m\u001b[0;34m(\u001b[0m\u001b[0minput\u001b[0m\u001b[0;34m(\u001b[0m\u001b[0;34m\"관리자 실행할 것은? \"\u001b[0m\u001b[0;34m)\u001b[0m\u001b[0;34m)\u001b[0m\u001b[0;34m\u001b[0m\u001b[0;34m\u001b[0m\u001b[0m\n\u001b[0m\u001b[1;32m    116\u001b[0m             \u001b[0;32mexcept\u001b[0m \u001b[0mValueError\u001b[0m\u001b[0;34m:\u001b[0m \u001b[0;31m# 메뉴 외에 다른 걸 누르면 continue로 위로 올라감\u001b[0m\u001b[0;34m\u001b[0m\u001b[0;34m\u001b[0m\u001b[0m\n\u001b[1;32m    117\u001b[0m                 \u001b[0mprint\u001b[0m\u001b[0;34m(\u001b[0m\u001b[0;34m\"올바른 번호를 입력해주세요.\"\u001b[0m\u001b[0;34m)\u001b[0m\u001b[0;34m\u001b[0m\u001b[0;34m\u001b[0m\u001b[0m\n",
            "\u001b[0;32m/usr/local/lib/python3.10/dist-packages/ipykernel/kernelbase.py\u001b[0m in \u001b[0;36mraw_input\u001b[0;34m(self, prompt)\u001b[0m\n\u001b[1;32m    849\u001b[0m                 \u001b[0;34m\"raw_input was called, but this frontend does not support input requests.\"\u001b[0m\u001b[0;34m\u001b[0m\u001b[0;34m\u001b[0m\u001b[0m\n\u001b[1;32m    850\u001b[0m             )\n\u001b[0;32m--> 851\u001b[0;31m         return self._input_request(str(prompt),\n\u001b[0m\u001b[1;32m    852\u001b[0m             \u001b[0mself\u001b[0m\u001b[0;34m.\u001b[0m\u001b[0m_parent_ident\u001b[0m\u001b[0;34m,\u001b[0m\u001b[0;34m\u001b[0m\u001b[0;34m\u001b[0m\u001b[0m\n\u001b[1;32m    853\u001b[0m             \u001b[0mself\u001b[0m\u001b[0;34m.\u001b[0m\u001b[0m_parent_header\u001b[0m\u001b[0;34m,\u001b[0m\u001b[0;34m\u001b[0m\u001b[0;34m\u001b[0m\u001b[0m\n",
            "\u001b[0;32m/usr/local/lib/python3.10/dist-packages/ipykernel/kernelbase.py\u001b[0m in \u001b[0;36m_input_request\u001b[0;34m(self, prompt, ident, parent, password)\u001b[0m\n\u001b[1;32m    893\u001b[0m             \u001b[0;32mexcept\u001b[0m \u001b[0mKeyboardInterrupt\u001b[0m\u001b[0;34m:\u001b[0m\u001b[0;34m\u001b[0m\u001b[0;34m\u001b[0m\u001b[0m\n\u001b[1;32m    894\u001b[0m                 \u001b[0;31m# re-raise KeyboardInterrupt, to truncate traceback\u001b[0m\u001b[0;34m\u001b[0m\u001b[0;34m\u001b[0m\u001b[0m\n\u001b[0;32m--> 895\u001b[0;31m                 \u001b[0;32mraise\u001b[0m \u001b[0mKeyboardInterrupt\u001b[0m\u001b[0;34m(\u001b[0m\u001b[0;34m\"Interrupted by user\"\u001b[0m\u001b[0;34m)\u001b[0m \u001b[0;32mfrom\u001b[0m \u001b[0;32mNone\u001b[0m\u001b[0;34m\u001b[0m\u001b[0;34m\u001b[0m\u001b[0m\n\u001b[0m\u001b[1;32m    896\u001b[0m             \u001b[0;32mexcept\u001b[0m \u001b[0mException\u001b[0m \u001b[0;32mas\u001b[0m \u001b[0me\u001b[0m\u001b[0;34m:\u001b[0m\u001b[0;34m\u001b[0m\u001b[0;34m\u001b[0m\u001b[0m\n\u001b[1;32m    897\u001b[0m                 \u001b[0mself\u001b[0m\u001b[0;34m.\u001b[0m\u001b[0mlog\u001b[0m\u001b[0;34m.\u001b[0m\u001b[0mwarning\u001b[0m\u001b[0;34m(\u001b[0m\u001b[0;34m\"Invalid Message:\"\u001b[0m\u001b[0;34m,\u001b[0m \u001b[0mexc_info\u001b[0m\u001b[0;34m=\u001b[0m\u001b[0;32mTrue\u001b[0m\u001b[0;34m)\u001b[0m\u001b[0;34m\u001b[0m\u001b[0;34m\u001b[0m\u001b[0m\n",
            "\u001b[0;31mKeyboardInterrupt\u001b[0m: Interrupted by user"
          ]
        }
      ]
    }
  ]
}