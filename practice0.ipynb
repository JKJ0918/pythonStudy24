{
  "nbformat": 4,
  "nbformat_minor": 0,
  "metadata": {
    "colab": {
      "provenance": [],
      "authorship_tag": "ABX9TyPoU9I4K9wWco1YMCLyhPoM",
      "include_colab_link": true
    },
    "kernelspec": {
      "name": "python3",
      "display_name": "Python 3"
    },
    "language_info": {
      "name": "python"
    }
  },
  "cells": [
    {
      "cell_type": "markdown",
      "metadata": {
        "id": "view-in-github",
        "colab_type": "text"
      },
      "source": [
        "<a href=\"https://colab.research.google.com/github/JKJ0918/pythonStudy24/blob/master/practice0.ipynb\" target=\"_parent\"><img src=\"https://colab.research.google.com/assets/colab-badge.svg\" alt=\"Open In Colab\"/></a>"
      ]
    },
    {
      "cell_type": "code",
      "execution_count": 3,
      "metadata": {
        "colab": {
          "base_uri": "https://localhost:8080/"
        },
        "id": "gUY91eL785jE",
        "outputId": "3cf4a6fc-f772-48f9-9488-4729a395e833"
      },
      "outputs": [
        {
          "output_type": "stream",
          "name": "stdout",
          "text": [
            "[90, 70, 40, 30, 20, 10]\n"
          ]
        }
      ],
      "source": [
        "# 리스트 정렬하기\n",
        "list = [20,40,30,70,90,10]\n",
        "list.sort() # 오름차순 정렬\n",
        "list.sort(reverse=True) # 내림차순 정렬\n",
        "print(list)"
      ]
    },
    {
      "cell_type": "code",
      "source": [
        "eng_scores = [ 100, 40, 70, 90, 60 ]\n",
        "eng_scores.sort()\n",
        "for i in range(-len(eng_scores), 0): # range(start, stop) start 부터 stop 바로 앞까지 숫자를 생성\n",
        "\tprint(eng_scores[i],'(',i,')',end='\\t')"
      ],
      "metadata": {
        "colab": {
          "base_uri": "https://localhost:8080/"
        },
        "id": "WQMtddoGHjtG",
        "outputId": "ef8d0017-907a-4030-d749-3ffc6fef3954"
      },
      "execution_count": 4,
      "outputs": [
        {
          "output_type": "stream",
          "name": "stdout",
          "text": [
            "40 ( -5 )\t60 ( -4 )\t70 ( -3 )\t90 ( -2 )\t100 ( -1 )\t"
          ]
        }
      ]
    },
    {
      "cell_type": "code",
      "source": [
        "# 음식 찾기\n",
        "foods = ['연어','삼겹살','LA갈비','살치살','꽃갈비살']\n",
        "food = input('찾을 음식 입력 : ')\n",
        "dish = foods.index(food) # *index 함수는 배열에서 값의 위치를 찾아주는 함수\n",
        "print(food + '음식의 위치는' + str(dish + 1 ) + '번 위치에 있습니다.')\n",
        "# str 파이썬에서 서로 다른 데이터 타입을 연결할 때, 타입 변환이 필요\n",
        "# dish + 1은 숫자(int 타입). 반면 ' 음식의 위치는 ' 같은 문자열(str 타입)과\n",
        "# 숫자를 + 연산으로 연결하려고 하면, 파이썬은 숫자와 문자열을 직접 연결할 수 없어서 에러가 발생함"
      ],
      "metadata": {
        "colab": {
          "base_uri": "https://localhost:8080/"
        },
        "id": "Y2W5IhWFJT2J",
        "outputId": "f18b4b9d-d0f5-4565-9d95-bc6c827cb1e3"
      },
      "execution_count": 9,
      "outputs": [
        {
          "output_type": "stream",
          "name": "stdout",
          "text": [
            "찾을 음식 입력 : 연어\n",
            "연어음식의 위치는1번 위치에 있습니다.\n"
          ]
        }
      ]
    },
    {
      "cell_type": "code",
      "source": [
        "# 리스트에 중복된 값을 제거하는 방법 - set -\n",
        "lst = ['새우','가자미','연어','도다리','고양이','호랑이','새우']\n",
        "a = set(lst)\n",
        "print(a)"
      ],
      "metadata": {
        "colab": {
          "base_uri": "https://localhost:8080/"
        },
        "id": "KqZFaCkJMHVB",
        "outputId": "587f6857-d56b-41ef-ab6b-9eedfac20ef5"
      },
      "execution_count": 14,
      "outputs": [
        {
          "output_type": "stream",
          "name": "stdout",
          "text": [
            "{'고양이', '새우', '연어', '가자미', '호랑이', '도다리'}\n"
          ]
        }
      ]
    },
    {
      "cell_type": "code",
      "source": [],
      "metadata": {
        "id": "-EF408znNi6Z"
      },
      "execution_count": null,
      "outputs": []
    }
  ]
}